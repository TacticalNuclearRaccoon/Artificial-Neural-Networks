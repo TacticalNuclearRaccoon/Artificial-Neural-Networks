{
  "nbformat": 4,
  "nbformat_minor": 0,
  "metadata": {
    "colab": {
      "name": "Mobydick: the whale classifier.ipynb",
      "provenance": [],
      "collapsed_sections": [],
      "authorship_tag": "ABX9TyOpvWjBdVLossNZV3Ayadnf",
      "include_colab_link": true
    },
    "kernelspec": {
      "name": "python3",
      "display_name": "Python 3"
    },
    "language_info": {
      "name": "python"
    },
    "accelerator": "GPU"
  },
  "cells": [
    {
      "cell_type": "markdown",
      "metadata": {
        "id": "view-in-github",
        "colab_type": "text"
      },
      "source": [
        "<a href=\"https://colab.research.google.com/github/TacticalNuclearRaccoon/Artificial-Neural-Networks/blob/main/Mobydick_the_whale_classifier.ipynb\" target=\"_parent\"><img src=\"https://colab.research.google.com/assets/colab-badge.svg\" alt=\"Open In Colab\"/></a>"
      ]
    },
    {
      "cell_type": "markdown",
      "metadata": {
        "id": "BoVld9cHOA-e"
      },
      "source": [
        "# Training a ResNet binary classifier to detect whale upcalls"
      ]
    },
    {
      "cell_type": "markdown",
      "metadata": {
        "id": "7FUmDOO-dXzS"
      },
      "source": [
        "![images.jfif](data:image/jpeg;base64,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)"
      ]
    },
    {
      "cell_type": "markdown",
      "metadata": {
        "id": "DiltqJkJOJXL"
      },
      "source": [
        "This notebook describes the steps to train a ResNet classifier using data provided by the Meridian project and their Python Library: **Ketos** <br>\n",
        "\n",
        "The main objective is to obtain a model pre-trained on whales and assess if such model is useful to identify Dolphin audio. <br>\n",
        "\n",
        "* A GPU type Runtime is recommended for the training. <br> \n",
        "\n",
        "Ketos can be installed via pip:"
      ]
    },
    {
      "cell_type": "code",
      "metadata": {
        "id": "-u--CmXjIUXd",
        "colab": {
          "base_uri": "https://localhost:8080/"
        },
        "outputId": "08166b64-8495-41b4-cdb8-68136153d5d8"
      },
      "source": [
        "!pip install ketos"
      ],
      "execution_count": 1,
      "outputs": [
        {
          "output_type": "stream",
          "name": "stdout",
          "text": [
            "Collecting ketos\n",
            "  Downloading ketos-2.4.0.tar.gz (181 kB)\n",
            "\u001b[?25l\r\u001b[K     |█▉                              | 10 kB 21.0 MB/s eta 0:00:01\r\u001b[K     |███▋                            | 20 kB 24.3 MB/s eta 0:00:01\r\u001b[K     |█████▍                          | 30 kB 17.8 MB/s eta 0:00:01\r\u001b[K     |███████▏                        | 40 kB 11.4 MB/s eta 0:00:01\r\u001b[K     |█████████                       | 51 kB 5.7 MB/s eta 0:00:01\r\u001b[K     |██████████▉                     | 61 kB 6.1 MB/s eta 0:00:01\r\u001b[K     |████████████▋                   | 71 kB 5.4 MB/s eta 0:00:01\r\u001b[K     |██████████████▍                 | 81 kB 5.9 MB/s eta 0:00:01\r\u001b[K     |████████████████▎               | 92 kB 6.0 MB/s eta 0:00:01\r\u001b[K     |██████████████████              | 102 kB 5.3 MB/s eta 0:00:01\r\u001b[K     |███████████████████▉            | 112 kB 5.3 MB/s eta 0:00:01\r\u001b[K     |█████████████████████▋          | 122 kB 5.3 MB/s eta 0:00:01\r\u001b[K     |███████████████████████▌        | 133 kB 5.3 MB/s eta 0:00:01\r\u001b[K     |█████████████████████████▎      | 143 kB 5.3 MB/s eta 0:00:01\r\u001b[K     |███████████████████████████     | 153 kB 5.3 MB/s eta 0:00:01\r\u001b[K     |████████████████████████████▉   | 163 kB 5.3 MB/s eta 0:00:01\r\u001b[K     |██████████████████████████████▊ | 174 kB 5.3 MB/s eta 0:00:01\r\u001b[K     |████████████████████████████████| 181 kB 5.3 MB/s \n",
            "\u001b[?25hRequirement already satisfied: numpy in /usr/local/lib/python3.7/dist-packages (from ketos) (1.19.5)\n",
            "Requirement already satisfied: tables in /usr/local/lib/python3.7/dist-packages (from ketos) (3.4.4)\n",
            "Requirement already satisfied: scipy in /usr/local/lib/python3.7/dist-packages (from ketos) (1.4.1)\n",
            "Requirement already satisfied: pandas in /usr/local/lib/python3.7/dist-packages (from ketos) (1.1.5)\n",
            "Requirement already satisfied: setuptools>=41.0.0 in /usr/local/lib/python3.7/dist-packages (from ketos) (57.4.0)\n",
            "Requirement already satisfied: tensorflow>=2.2 in /usr/local/lib/python3.7/dist-packages (from ketos) (2.7.0)\n",
            "Requirement already satisfied: scikit-learn in /usr/local/lib/python3.7/dist-packages (from ketos) (1.0.1)\n",
            "Requirement already satisfied: scikit-image in /usr/local/lib/python3.7/dist-packages (from ketos) (0.18.3)\n",
            "Requirement already satisfied: librosa in /usr/local/lib/python3.7/dist-packages (from ketos) (0.8.1)\n",
            "Collecting datetime_glob\n",
            "  Downloading datetime-glob-1.0.8.tar.gz (10 kB)\n",
            "Requirement already satisfied: matplotlib in /usr/local/lib/python3.7/dist-packages (from ketos) (3.2.2)\n",
            "Requirement already satisfied: tqdm in /usr/local/lib/python3.7/dist-packages (from ketos) (4.62.3)\n",
            "Collecting pint\n",
            "  Downloading Pint-0.18-py2.py3-none-any.whl (209 kB)\n",
            "\u001b[K     |████████████████████████████████| 209 kB 51.8 MB/s \n",
            "\u001b[?25hRequirement already satisfied: psutil in /usr/local/lib/python3.7/dist-packages (from ketos) (5.4.8)\n",
            "Collecting version-parser\n",
            "  Downloading version_parser-1.0.1.tar.gz (4.4 kB)\n",
            "Requirement already satisfied: keras<2.8,>=2.7.0rc0 in /usr/local/lib/python3.7/dist-packages (from tensorflow>=2.2->ketos) (2.7.0)\n",
            "Requirement already satisfied: tensorflow-io-gcs-filesystem>=0.21.0 in /usr/local/lib/python3.7/dist-packages (from tensorflow>=2.2->ketos) (0.22.0)\n",
            "Requirement already satisfied: astunparse>=1.6.0 in /usr/local/lib/python3.7/dist-packages (from tensorflow>=2.2->ketos) (1.6.3)\n",
            "Requirement already satisfied: protobuf>=3.9.2 in /usr/local/lib/python3.7/dist-packages (from tensorflow>=2.2->ketos) (3.17.3)\n",
            "Requirement already satisfied: tensorflow-estimator<2.8,~=2.7.0rc0 in /usr/local/lib/python3.7/dist-packages (from tensorflow>=2.2->ketos) (2.7.0)\n",
            "Requirement already satisfied: wheel<1.0,>=0.32.0 in /usr/local/lib/python3.7/dist-packages (from tensorflow>=2.2->ketos) (0.37.0)\n",
            "Requirement already satisfied: flatbuffers<3.0,>=1.12 in /usr/local/lib/python3.7/dist-packages (from tensorflow>=2.2->ketos) (2.0)\n",
            "Requirement already satisfied: grpcio<2.0,>=1.24.3 in /usr/local/lib/python3.7/dist-packages (from tensorflow>=2.2->ketos) (1.42.0)\n",
            "Requirement already satisfied: absl-py>=0.4.0 in /usr/local/lib/python3.7/dist-packages (from tensorflow>=2.2->ketos) (0.12.0)\n",
            "Requirement already satisfied: typing-extensions>=3.6.6 in /usr/local/lib/python3.7/dist-packages (from tensorflow>=2.2->ketos) (3.10.0.2)\n",
            "Requirement already satisfied: opt-einsum>=2.3.2 in /usr/local/lib/python3.7/dist-packages (from tensorflow>=2.2->ketos) (3.3.0)\n",
            "Requirement already satisfied: tensorboard~=2.6 in /usr/local/lib/python3.7/dist-packages (from tensorflow>=2.2->ketos) (2.7.0)\n",
            "Requirement already satisfied: wrapt>=1.11.0 in /usr/local/lib/python3.7/dist-packages (from tensorflow>=2.2->ketos) (1.13.3)\n",
            "Requirement already satisfied: google-pasta>=0.1.1 in /usr/local/lib/python3.7/dist-packages (from tensorflow>=2.2->ketos) (0.2.0)\n",
            "Requirement already satisfied: gast<0.5.0,>=0.2.1 in /usr/local/lib/python3.7/dist-packages (from tensorflow>=2.2->ketos) (0.4.0)\n",
            "Requirement already satisfied: keras-preprocessing>=1.1.1 in /usr/local/lib/python3.7/dist-packages (from tensorflow>=2.2->ketos) (1.1.2)\n",
            "Requirement already satisfied: libclang>=9.0.1 in /usr/local/lib/python3.7/dist-packages (from tensorflow>=2.2->ketos) (12.0.0)\n",
            "Requirement already satisfied: six>=1.12.0 in /usr/local/lib/python3.7/dist-packages (from tensorflow>=2.2->ketos) (1.15.0)\n",
            "Requirement already satisfied: termcolor>=1.1.0 in /usr/local/lib/python3.7/dist-packages (from tensorflow>=2.2->ketos) (1.1.0)\n",
            "Requirement already satisfied: h5py>=2.9.0 in /usr/local/lib/python3.7/dist-packages (from tensorflow>=2.2->ketos) (3.1.0)\n",
            "Requirement already satisfied: cached-property in /usr/local/lib/python3.7/dist-packages (from h5py>=2.9.0->tensorflow>=2.2->ketos) (1.5.2)\n",
            "Requirement already satisfied: google-auth-oauthlib<0.5,>=0.4.1 in /usr/local/lib/python3.7/dist-packages (from tensorboard~=2.6->tensorflow>=2.2->ketos) (0.4.6)\n",
            "Requirement already satisfied: markdown>=2.6.8 in /usr/local/lib/python3.7/dist-packages (from tensorboard~=2.6->tensorflow>=2.2->ketos) (3.3.6)\n",
            "Requirement already satisfied: google-auth<3,>=1.6.3 in /usr/local/lib/python3.7/dist-packages (from tensorboard~=2.6->tensorflow>=2.2->ketos) (1.35.0)\n",
            "Requirement already satisfied: werkzeug>=0.11.15 in /usr/local/lib/python3.7/dist-packages (from tensorboard~=2.6->tensorflow>=2.2->ketos) (1.0.1)\n",
            "Requirement already satisfied: tensorboard-plugin-wit>=1.6.0 in /usr/local/lib/python3.7/dist-packages (from tensorboard~=2.6->tensorflow>=2.2->ketos) (1.8.0)\n",
            "Requirement already satisfied: requests<3,>=2.21.0 in /usr/local/lib/python3.7/dist-packages (from tensorboard~=2.6->tensorflow>=2.2->ketos) (2.23.0)\n",
            "Requirement already satisfied: tensorboard-data-server<0.7.0,>=0.6.0 in /usr/local/lib/python3.7/dist-packages (from tensorboard~=2.6->tensorflow>=2.2->ketos) (0.6.1)\n",
            "Requirement already satisfied: cachetools<5.0,>=2.0.0 in /usr/local/lib/python3.7/dist-packages (from google-auth<3,>=1.6.3->tensorboard~=2.6->tensorflow>=2.2->ketos) (4.2.4)\n",
            "Requirement already satisfied: pyasn1-modules>=0.2.1 in /usr/local/lib/python3.7/dist-packages (from google-auth<3,>=1.6.3->tensorboard~=2.6->tensorflow>=2.2->ketos) (0.2.8)\n",
            "Requirement already satisfied: rsa<5,>=3.1.4 in /usr/local/lib/python3.7/dist-packages (from google-auth<3,>=1.6.3->tensorboard~=2.6->tensorflow>=2.2->ketos) (4.7.2)\n",
            "Requirement already satisfied: requests-oauthlib>=0.7.0 in /usr/local/lib/python3.7/dist-packages (from google-auth-oauthlib<0.5,>=0.4.1->tensorboard~=2.6->tensorflow>=2.2->ketos) (1.3.0)\n",
            "Requirement already satisfied: importlib-metadata>=4.4 in /usr/local/lib/python3.7/dist-packages (from markdown>=2.6.8->tensorboard~=2.6->tensorflow>=2.2->ketos) (4.8.2)\n",
            "Requirement already satisfied: zipp>=0.5 in /usr/local/lib/python3.7/dist-packages (from importlib-metadata>=4.4->markdown>=2.6.8->tensorboard~=2.6->tensorflow>=2.2->ketos) (3.6.0)\n",
            "Requirement already satisfied: pyasn1<0.5.0,>=0.4.6 in /usr/local/lib/python3.7/dist-packages (from pyasn1-modules>=0.2.1->google-auth<3,>=1.6.3->tensorboard~=2.6->tensorflow>=2.2->ketos) (0.4.8)\n",
            "Requirement already satisfied: idna<3,>=2.5 in /usr/local/lib/python3.7/dist-packages (from requests<3,>=2.21.0->tensorboard~=2.6->tensorflow>=2.2->ketos) (2.10)\n",
            "Requirement already satisfied: certifi>=2017.4.17 in /usr/local/lib/python3.7/dist-packages (from requests<3,>=2.21.0->tensorboard~=2.6->tensorflow>=2.2->ketos) (2021.10.8)\n",
            "Requirement already satisfied: chardet<4,>=3.0.2 in /usr/local/lib/python3.7/dist-packages (from requests<3,>=2.21.0->tensorboard~=2.6->tensorflow>=2.2->ketos) (3.0.4)\n",
            "Requirement already satisfied: urllib3!=1.25.0,!=1.25.1,<1.26,>=1.21.1 in /usr/local/lib/python3.7/dist-packages (from requests<3,>=2.21.0->tensorboard~=2.6->tensorflow>=2.2->ketos) (1.24.3)\n",
            "Requirement already satisfied: oauthlib>=3.0.0 in /usr/local/lib/python3.7/dist-packages (from requests-oauthlib>=0.7.0->google-auth-oauthlib<0.5,>=0.4.1->tensorboard~=2.6->tensorflow>=2.2->ketos) (3.1.1)\n",
            "Collecting lexery>=1.0.0\n",
            "  Downloading lexery-1.1.1.tar.gz (5.4 kB)\n",
            "Requirement already satisfied: audioread>=2.0.0 in /usr/local/lib/python3.7/dist-packages (from librosa->ketos) (2.1.9)\n",
            "Requirement already satisfied: soundfile>=0.10.2 in /usr/local/lib/python3.7/dist-packages (from librosa->ketos) (0.10.3.post1)\n",
            "Requirement already satisfied: numba>=0.43.0 in /usr/local/lib/python3.7/dist-packages (from librosa->ketos) (0.51.2)\n",
            "Requirement already satisfied: packaging>=20.0 in /usr/local/lib/python3.7/dist-packages (from librosa->ketos) (21.3)\n",
            "Requirement already satisfied: pooch>=1.0 in /usr/local/lib/python3.7/dist-packages (from librosa->ketos) (1.5.2)\n",
            "Requirement already satisfied: decorator>=3.0.0 in /usr/local/lib/python3.7/dist-packages (from librosa->ketos) (4.4.2)\n",
            "Requirement already satisfied: joblib>=0.14 in /usr/local/lib/python3.7/dist-packages (from librosa->ketos) (1.1.0)\n",
            "Requirement already satisfied: resampy>=0.2.2 in /usr/local/lib/python3.7/dist-packages (from librosa->ketos) (0.2.2)\n",
            "Requirement already satisfied: llvmlite<0.35,>=0.34.0.dev0 in /usr/local/lib/python3.7/dist-packages (from numba>=0.43.0->librosa->ketos) (0.34.0)\n",
            "Requirement already satisfied: pyparsing!=3.0.5,>=2.0.2 in /usr/local/lib/python3.7/dist-packages (from packaging>=20.0->librosa->ketos) (3.0.6)\n",
            "Requirement already satisfied: appdirs in /usr/local/lib/python3.7/dist-packages (from pooch>=1.0->librosa->ketos) (1.4.4)\n",
            "Requirement already satisfied: threadpoolctl>=2.0.0 in /usr/local/lib/python3.7/dist-packages (from scikit-learn->ketos) (3.0.0)\n",
            "Requirement already satisfied: cffi>=1.0 in /usr/local/lib/python3.7/dist-packages (from soundfile>=0.10.2->librosa->ketos) (1.15.0)\n",
            "Requirement already satisfied: pycparser in /usr/local/lib/python3.7/dist-packages (from cffi>=1.0->soundfile>=0.10.2->librosa->ketos) (2.21)\n",
            "Requirement already satisfied: python-dateutil>=2.1 in /usr/local/lib/python3.7/dist-packages (from matplotlib->ketos) (2.8.2)\n",
            "Requirement already satisfied: kiwisolver>=1.0.1 in /usr/local/lib/python3.7/dist-packages (from matplotlib->ketos) (1.3.2)\n",
            "Requirement already satisfied: cycler>=0.10 in /usr/local/lib/python3.7/dist-packages (from matplotlib->ketos) (0.11.0)\n",
            "Requirement already satisfied: pytz>=2017.2 in /usr/local/lib/python3.7/dist-packages (from pandas->ketos) (2018.9)\n",
            "Requirement already satisfied: imageio>=2.3.0 in /usr/local/lib/python3.7/dist-packages (from scikit-image->ketos) (2.4.1)\n",
            "Requirement already satisfied: networkx>=2.0 in /usr/local/lib/python3.7/dist-packages (from scikit-image->ketos) (2.6.3)\n",
            "Requirement already satisfied: pillow!=7.1.0,!=7.1.1,>=4.3.0 in /usr/local/lib/python3.7/dist-packages (from scikit-image->ketos) (7.1.2)\n",
            "Requirement already satisfied: PyWavelets>=1.1.1 in /usr/local/lib/python3.7/dist-packages (from scikit-image->ketos) (1.2.0)\n",
            "Requirement already satisfied: tifffile>=2019.7.26 in /usr/local/lib/python3.7/dist-packages (from scikit-image->ketos) (2021.11.2)\n",
            "Requirement already satisfied: numexpr>=2.5.2 in /usr/local/lib/python3.7/dist-packages (from tables->ketos) (2.7.3)\n",
            "Building wheels for collected packages: ketos, datetime-glob, lexery, version-parser\n",
            "  Building wheel for ketos (setup.py) ... \u001b[?25l\u001b[?25hdone\n",
            "  Created wheel for ketos: filename=ketos-2.4.0-py3-none-any.whl size=226286 sha256=437ef636a470ec9cd69e525b03f94683b79230114d16bd4b1c41ab3c9fa91ca6\n",
            "  Stored in directory: /root/.cache/pip/wheels/a9/74/ec/07b9dbb748e2c8bd8c2e71833a4ff12edd76f4e6b5864fdbcb\n",
            "  Building wheel for datetime-glob (setup.py) ... \u001b[?25l\u001b[?25hdone\n",
            "  Created wheel for datetime-glob: filename=datetime_glob-1.0.8-py3-none-any.whl size=7980 sha256=168cfd1af63dc6e6383567f2786c6288a8dc83115e489ff0e4ba8e938f7b0c2b\n",
            "  Stored in directory: /root/.cache/pip/wheels/66/83/5f/fc21bcb17423bdbb629b5faea89d6307d6fc4b7f4976ded714\n",
            "  Building wheel for lexery (setup.py) ... \u001b[?25l\u001b[?25hdone\n",
            "  Created wheel for lexery: filename=lexery-1.1.1-py3-none-any.whl size=4892 sha256=37ecd6c793743a316a4d9e1cd56ca94fad3d3c2390bc304178a11ec87b13df51\n",
            "  Stored in directory: /root/.cache/pip/wheels/38/69/66/3916e07b71430a7628b43521720bc4a9d1a8d34f81843533f7\n",
            "  Building wheel for version-parser (setup.py) ... \u001b[?25l\u001b[?25hdone\n",
            "  Created wheel for version-parser: filename=version_parser-1.0.1-py3-none-any.whl size=4863 sha256=e34505294fbc478bf647cc99d5f13361bba898afc4ea1b369c402c94e606d6bd\n",
            "  Stored in directory: /root/.cache/pip/wheels/da/c8/34/ef297116752554e212bc4a066f267711e03a7cbb71b5301843\n",
            "Successfully built ketos datetime-glob lexery version-parser\n",
            "Installing collected packages: lexery, version-parser, pint, datetime-glob, ketos\n",
            "Successfully installed datetime-glob-1.0.8 ketos-2.4.0 lexery-1.1.1 pint-0.18 version-parser-1.0.1\n"
          ]
        }
      ]
    },
    {
      "cell_type": "markdown",
      "metadata": {
        "id": "Nzum5q9uOqLE"
      },
      "source": [
        "##Importing Libraries"
      ]
    },
    {
      "cell_type": "code",
      "metadata": {
        "id": "ebdbPOi4b5ys",
        "colab": {
          "base_uri": "https://localhost:8080/"
        },
        "outputId": "dda51275-f179-481c-8c60-5906120b03bc"
      },
      "source": [
        "import pandas as pd\n",
        "from ketos.data_handling import selection_table as sl\n",
        "import ketos.data_handling.database_interface as dbi\n",
        "from ketos.data_handling.parsing import load_audio_representation\n",
        "from ketos.audio.spectrogram import MagSpectrogram\n",
        "from ketos.data_handling.parsing import load_audio_representation\n",
        "\n",
        "from ketos.neural_networks.resnet import ResNetInterface\n",
        "from google.colab import files"
      ],
      "execution_count": 2,
      "outputs": [
        {
          "output_type": "stream",
          "name": "stderr",
          "text": [
            "/usr/local/lib/python3.7/dist-packages/keras/optimizer_v2/adam.py:105: UserWarning: The `lr` argument is deprecated, use `learning_rate` instead.\n",
            "  super(Adam, self).__init__(name, **kwargs)\n"
          ]
        }
      ]
    },
    {
      "cell_type": "markdown",
      "metadata": {
        "id": "dFfVMxzCOwkz"
      },
      "source": [
        "Identifying GPU device and listing:\n"
      ]
    },
    {
      "cell_type": "code",
      "metadata": {
        "colab": {
          "base_uri": "https://localhost:8080/"
        },
        "id": "y834XqluYCcJ",
        "outputId": "9567de0c-6cd3-4fa5-afc7-69876dbfbdcb"
      },
      "source": [
        "%tensorflow_version 2.x\n",
        "import tensorflow as tf\n",
        "device_name = tf.test.gpu_device_name()\n",
        "if device_name != '/device:GPU:0':\n",
        "  raise SystemError('GPU device not found')\n",
        "print('Found GPU at: {}'.format(device_name))"
      ],
      "execution_count": null,
      "outputs": [
        {
          "output_type": "stream",
          "name": "stdout",
          "text": [
            "Found GPU at: /device:GPU:0\n"
          ]
        }
      ]
    },
    {
      "cell_type": "code",
      "metadata": {
        "colab": {
          "base_uri": "https://localhost:8080/"
        },
        "id": "clj_nDLGYWe1",
        "outputId": "5cefd5fd-721f-4cba-d053-a8371ff2af6d"
      },
      "source": [
        "print(\"Num GPUs Available: \", len(tf.config.list_physical_devices('GPU')))"
      ],
      "execution_count": null,
      "outputs": [
        {
          "output_type": "stream",
          "name": "stdout",
          "text": [
            "Num GPUs Available:  1\n"
          ]
        }
      ]
    },
    {
      "cell_type": "code",
      "metadata": {
        "colab": {
          "base_uri": "https://localhost:8080/"
        },
        "id": "myXE5YDKji8O",
        "outputId": "015ab212-ae4b-4bac-87d1-ddbf23af520e"
      },
      "source": [
        "#getting the data\n",
        "!wget https://gitlab.meridian.cs.dal.ca/public_projects/ketos_tutorials/-/raw/master/tutorials/create_database/database_creation_tutorial.zip"
      ],
      "execution_count": 3,
      "outputs": [
        {
          "output_type": "stream",
          "name": "stdout",
          "text": [
            "--2021-11-25 09:19:33--  https://gitlab.meridian.cs.dal.ca/public_projects/ketos_tutorials/-/raw/master/tutorials/create_database/database_creation_tutorial.zip\n",
            "Resolving gitlab.meridian.cs.dal.ca (gitlab.meridian.cs.dal.ca)... 206.12.88.81\n",
            "Connecting to gitlab.meridian.cs.dal.ca (gitlab.meridian.cs.dal.ca)|206.12.88.81|:443... connected.\n",
            "HTTP request sent, awaiting response... 200 OK\n",
            "Length: 169628696 (162M) [application/zip]\n",
            "Saving to: ‘database_creation_tutorial.zip’\n",
            "\n",
            "database_creation_t 100%[===================>] 161.77M  44.8MB/s    in 4.0s    \n",
            "\n",
            "2021-11-25 09:19:39 (40.6 MB/s) - ‘database_creation_tutorial.zip’ saved [169628696/169628696]\n",
            "\n"
          ]
        }
      ]
    },
    {
      "cell_type": "code",
      "metadata": {
        "id": "5MhrLdjSJJre"
      },
      "source": [
        "!unzip -q database_creation_tutorial.zip"
      ],
      "execution_count": 4,
      "outputs": []
    },
    {
      "cell_type": "markdown",
      "metadata": {
        "id": "0YmJmO17ZN8m"
      },
      "source": [
        "The spec file contained here is not the good one (missing the \"duration\" attribute: only 7 attributes instead of 8 ). Therefore I'll replace it with the correct one that I made ;) "
      ]
    },
    {
      "cell_type": "code",
      "metadata": {
        "colab": {
          "base_uri": "https://localhost:8080/"
        },
        "id": "HfqCMPQQZ9vn",
        "outputId": "16b8b753-0ae0-4502-c89c-a003b4883055"
      },
      "source": [
        "!cat spec_config.json"
      ],
      "execution_count": 19,
      "outputs": [
        {
          "output_type": "stream",
          "name": "stdout",
          "text": [
            "{\n",
            "    \"spectrogram\": {\n",
            "\t\"rate\": \"1000 Hz\", \n",
            "        \"window\": \"0.256 s\",\n",
            "        \"step\": \"0.032 s\",\n",
            "        \"freq_min\": \"0 Hz\",\n",
            "        \"freq_max\": \"500 Hz\",\n",
            "        \"window_func\": \"hamming\",\n",
            "        \"type\": \"MagSpectrogram\"\n",
            "    }\n",
            "}\n",
            "\n"
          ]
        }
      ]
    },
    {
      "cell_type": "code",
      "metadata": {
        "id": "v90S_QOlccoT"
      },
      "source": [
        "good_spec=files.upload()"
      ],
      "execution_count": null,
      "outputs": []
    },
    {
      "cell_type": "code",
      "metadata": {
        "id": "nxQSlsQCcx6W"
      },
      "source": [
        "!cat spec_config2.json"
      ],
      "execution_count": null,
      "outputs": []
    },
    {
      "cell_type": "code",
      "metadata": {
        "id": "fUn9W_rzjVFe"
      },
      "source": [
        "#Loading annotations\n",
        "annot_train = pd.read_csv(\"annotations_train.csv\")\n",
        "annot_test = pd.read_csv(\"annotations_test.csv\")"
      ],
      "execution_count": 6,
      "outputs": []
    },
    {
      "cell_type": "code",
      "metadata": {
        "colab": {
          "base_uri": "https://localhost:8080/"
        },
        "id": "TmKxCYBGlrgh",
        "outputId": "e4ce0aaa-f866-4752-beb0-5be7e1de2e77"
      },
      "source": [
        "#checking if annotations are confom to ketos standard\n",
        "sl.is_standardized(annot_train) #f*ck it it is not the ketos format T_T"
      ],
      "execution_count": 7,
      "outputs": [
        {
          "output_type": "stream",
          "name": "stdout",
          "text": [
            " Your table is not in the Ketos format.\n",
            "\n",
            "            It should have two levels of indices: filename and annot_id.\n",
            "            It should also contain at least the 'label' column.\n",
            "            If your annotations have time information, these should appear in the 'start' and 'end' columns\n",
            "\n",
            "            extra columns are allowed.\n",
            "\n",
            "            Here is a minimum example:\n",
            "\n",
            "                                 label\n",
            "            filename  annot_id                    \n",
            "            file1.wav 0          2\n",
            "                      1          1\n",
            "                      2          2\n",
            "            file2.wav 0          2\n",
            "                      1          2\n",
            "                      2          1\n",
            "\n",
            "\n",
            "            And here is a table with time information and a few extra columns ('min_freq', 'max_freq' and 'file_time_stamp')\n",
            "\n",
            "                                 start   end  label  min_freq  max_freq  file_time_stamp\n",
            "            filename  annot_id                    \n",
            "            file1.wav 0           7.0   8.1      2    180.6     294.3    2019-02-24 13:15:00\n",
            "                      1           8.5  12.5      1    174.2     258.7    2019-02-24 13:15:00\n",
            "                      2          13.1  14.0      2    183.4     292.3    2019-02-24 13:15:00\n",
            "            file2.wav 0           2.2   3.1      2    148.8     286.6    2019-02-24 13:30:00\n",
            "                      1           5.8   6.8      2    156.6     278.3    2019-02-24 13:30:00\n",
            "                      2           9.0  13.0      1    178.2     304.5    2019-02-24 13:30:00\n",
            "\n",
            "    \n",
            "    \n"
          ]
        },
        {
          "output_type": "execute_result",
          "data": {
            "text/plain": [
              "False"
            ]
          },
          "metadata": {},
          "execution_count": 7
        }
      ]
    },
    {
      "cell_type": "code",
      "metadata": {
        "id": "UrI5xF8dmBXQ"
      },
      "source": [
        "#standardizing the annotations\n",
        "map_to_ketos_annot_std ={'sound_file': 'filename'} \n",
        "std_annot_train = sl.standardize(table=annot_train, signal_labels=[\"upcall\"], mapper=map_to_ketos_annot_std, trim_table=True)\n",
        "std_annot_test = sl.standardize(table=annot_test, signal_labels=[\"upcall\"], mapper=map_to_ketos_annot_std, trim_table=True)"
      ],
      "execution_count": 8,
      "outputs": []
    },
    {
      "cell_type": "code",
      "metadata": {
        "colab": {
          "base_uri": "https://localhost:8080/"
        },
        "id": "Pay3R910mPcP",
        "outputId": "22ecc438-2f07-4a98-fd71-9e341d858a33"
      },
      "source": [
        "sl.is_standardized(std_annot_train) #now it is ketos format!"
      ],
      "execution_count": 9,
      "outputs": [
        {
          "output_type": "execute_result",
          "data": {
            "text/plain": [
              "True"
            ]
          },
          "metadata": {},
          "execution_count": 9
        }
      ]
    },
    {
      "cell_type": "code",
      "metadata": {
        "id": "XEOAfbirmTwN"
      },
      "source": [
        "#creating segments of uniform lenght\n",
        "positives_train = sl.select(annotations=std_annot_train, length=3.0)\n",
        "positives_test = sl.select(annotations=std_annot_test, length=3.0, step=0.0, center=False)"
      ],
      "execution_count": 10,
      "outputs": []
    },
    {
      "cell_type": "markdown",
      "metadata": {
        "id": "BMmL-sv2mfPa"
      },
      "source": [
        "**data augmentation:**"
      ]
    },
    {
      "cell_type": "code",
      "metadata": {
        "id": "ErwLbWzsmiIB"
      },
      "source": [
        "#adding overlaps & frameshifts\n",
        "positives_train = sl.select(annotations=std_annot_train, length=3.0, step=0.5, min_overlap=0.5, center=False)"
      ],
      "execution_count": 11,
      "outputs": []
    },
    {
      "cell_type": "code",
      "metadata": {
        "id": "zfjFFz4jmvsy"
      },
      "source": [
        "#adding background from negative files (not useful when there is already background noise)\n",
        "file_durations_train = sl.file_duration_table('data/train')\n",
        "file_durations_test = sl.file_duration_table('data/test') "
      ],
      "execution_count": 12,
      "outputs": []
    },
    {
      "cell_type": "code",
      "metadata": {
        "colab": {
          "base_uri": "https://localhost:8080/",
          "height": 455
        },
        "id": "nwawQLIsm5ua",
        "outputId": "8a7df497-b3c7-4218-d786-a9bc8adce4b8"
      },
      "source": [
        "#generating the negatives\n",
        "negatives_train=sl.create_rndm_backgr_selections(annotations=std_annot_train, files=file_durations_train, length=3.0, num=len(positives_train), trim_table=True)\n",
        "negatives_train"
      ],
      "execution_count": 13,
      "outputs": [
        {
          "output_type": "execute_result",
          "data": {
            "text/html": [
              "<div>\n",
              "<style scoped>\n",
              "    .dataframe tbody tr th:only-of-type {\n",
              "        vertical-align: middle;\n",
              "    }\n",
              "\n",
              "    .dataframe tbody tr th {\n",
              "        vertical-align: top;\n",
              "    }\n",
              "\n",
              "    .dataframe thead th {\n",
              "        text-align: right;\n",
              "    }\n",
              "</style>\n",
              "<table border=\"1\" class=\"dataframe\">\n",
              "  <thead>\n",
              "    <tr style=\"text-align: right;\">\n",
              "      <th></th>\n",
              "      <th></th>\n",
              "      <th>start</th>\n",
              "      <th>end</th>\n",
              "      <th>label</th>\n",
              "    </tr>\n",
              "    <tr>\n",
              "      <th>filename</th>\n",
              "      <th>sel_id</th>\n",
              "      <th></th>\n",
              "      <th></th>\n",
              "      <th></th>\n",
              "    </tr>\n",
              "  </thead>\n",
              "  <tbody>\n",
              "    <tr>\n",
              "      <th rowspan=\"5\" valign=\"top\">NOPP6_EST_20090328_000000.wav</th>\n",
              "      <th>0</th>\n",
              "      <td>41.619078</td>\n",
              "      <td>44.619078</td>\n",
              "      <td>0</td>\n",
              "    </tr>\n",
              "    <tr>\n",
              "      <th>1</th>\n",
              "      <td>44.722179</td>\n",
              "      <td>47.722179</td>\n",
              "      <td>0</td>\n",
              "    </tr>\n",
              "    <tr>\n",
              "      <th>2</th>\n",
              "      <td>44.836232</td>\n",
              "      <td>47.836232</td>\n",
              "      <td>0</td>\n",
              "    </tr>\n",
              "    <tr>\n",
              "      <th>3</th>\n",
              "      <td>65.699086</td>\n",
              "      <td>68.699086</td>\n",
              "      <td>0</td>\n",
              "    </tr>\n",
              "    <tr>\n",
              "      <th>4</th>\n",
              "      <td>78.649139</td>\n",
              "      <td>81.649139</td>\n",
              "      <td>0</td>\n",
              "    </tr>\n",
              "    <tr>\n",
              "      <th>...</th>\n",
              "      <th>...</th>\n",
              "      <td>...</td>\n",
              "      <td>...</td>\n",
              "      <td>...</td>\n",
              "    </tr>\n",
              "    <tr>\n",
              "      <th rowspan=\"5\" valign=\"top\">NOPP6_EST_20090329_031500.wav</th>\n",
              "      <th>30</th>\n",
              "      <td>837.981858</td>\n",
              "      <td>840.981858</td>\n",
              "      <td>0</td>\n",
              "    </tr>\n",
              "    <tr>\n",
              "      <th>31</th>\n",
              "      <td>844.220272</td>\n",
              "      <td>847.220272</td>\n",
              "      <td>0</td>\n",
              "    </tr>\n",
              "    <tr>\n",
              "      <th>32</th>\n",
              "      <td>863.158764</td>\n",
              "      <td>866.158764</td>\n",
              "      <td>0</td>\n",
              "    </tr>\n",
              "    <tr>\n",
              "      <th>33</th>\n",
              "      <td>879.408035</td>\n",
              "      <td>882.408035</td>\n",
              "      <td>0</td>\n",
              "    </tr>\n",
              "    <tr>\n",
              "      <th>34</th>\n",
              "      <td>879.503803</td>\n",
              "      <td>882.503803</td>\n",
              "      <td>0</td>\n",
              "    </tr>\n",
              "  </tbody>\n",
              "</table>\n",
              "<p>2778 rows × 3 columns</p>\n",
              "</div>"
            ],
            "text/plain": [
              "                                           start         end  label\n",
              "filename                      sel_id                               \n",
              "NOPP6_EST_20090328_000000.wav 0        41.619078   44.619078      0\n",
              "                              1        44.722179   47.722179      0\n",
              "                              2        44.836232   47.836232      0\n",
              "                              3        65.699086   68.699086      0\n",
              "                              4        78.649139   81.649139      0\n",
              "...                                          ...         ...    ...\n",
              "NOPP6_EST_20090329_031500.wav 30      837.981858  840.981858      0\n",
              "                              31      844.220272  847.220272      0\n",
              "                              32      863.158764  866.158764      0\n",
              "                              33      879.408035  882.408035      0\n",
              "                              34      879.503803  882.503803      0\n",
              "\n",
              "[2778 rows x 3 columns]"
            ]
          },
          "metadata": {},
          "execution_count": 13
        }
      ]
    },
    {
      "cell_type": "code",
      "metadata": {
        "colab": {
          "base_uri": "https://localhost:8080/",
          "height": 455
        },
        "id": "F2mu-RTMm90z",
        "outputId": "0d2a6143-989d-4946-bcfd-e48dad770c58"
      },
      "source": [
        "negatives_test=sl.create_rndm_backgr_selections(annotations=std_annot_train, files=file_durations_test, length=3.0, num=len(positives_test), trim_table=True)\n",
        "negatives_test"
      ],
      "execution_count": 14,
      "outputs": [
        {
          "output_type": "execute_result",
          "data": {
            "text/html": [
              "<div>\n",
              "<style scoped>\n",
              "    .dataframe tbody tr th:only-of-type {\n",
              "        vertical-align: middle;\n",
              "    }\n",
              "\n",
              "    .dataframe tbody tr th {\n",
              "        vertical-align: top;\n",
              "    }\n",
              "\n",
              "    .dataframe thead th {\n",
              "        text-align: right;\n",
              "    }\n",
              "</style>\n",
              "<table border=\"1\" class=\"dataframe\">\n",
              "  <thead>\n",
              "    <tr style=\"text-align: right;\">\n",
              "      <th></th>\n",
              "      <th></th>\n",
              "      <th>start</th>\n",
              "      <th>end</th>\n",
              "      <th>label</th>\n",
              "    </tr>\n",
              "    <tr>\n",
              "      <th>filename</th>\n",
              "      <th>sel_id</th>\n",
              "      <th></th>\n",
              "      <th></th>\n",
              "      <th></th>\n",
              "    </tr>\n",
              "  </thead>\n",
              "  <tbody>\n",
              "    <tr>\n",
              "      <th rowspan=\"5\" valign=\"top\">NOPP6_EST_20090329_084500.wav</th>\n",
              "      <th>0</th>\n",
              "      <td>79.080859</td>\n",
              "      <td>82.080859</td>\n",
              "      <td>0</td>\n",
              "    </tr>\n",
              "    <tr>\n",
              "      <th>1</th>\n",
              "      <td>194.200688</td>\n",
              "      <td>197.200688</td>\n",
              "      <td>0</td>\n",
              "    </tr>\n",
              "    <tr>\n",
              "      <th>2</th>\n",
              "      <td>197.613408</td>\n",
              "      <td>200.613408</td>\n",
              "      <td>0</td>\n",
              "    </tr>\n",
              "    <tr>\n",
              "      <th>3</th>\n",
              "      <td>252.888952</td>\n",
              "      <td>255.888952</td>\n",
              "      <td>0</td>\n",
              "    </tr>\n",
              "    <tr>\n",
              "      <th>4</th>\n",
              "      <td>324.618766</td>\n",
              "      <td>327.618766</td>\n",
              "      <td>0</td>\n",
              "    </tr>\n",
              "    <tr>\n",
              "      <th>...</th>\n",
              "      <th>...</th>\n",
              "      <td>...</td>\n",
              "      <td>...</td>\n",
              "      <td>...</td>\n",
              "    </tr>\n",
              "    <tr>\n",
              "      <th rowspan=\"5\" valign=\"top\">NOPP6_EST_20090329_130000.wav</th>\n",
              "      <th>25</th>\n",
              "      <td>799.360671</td>\n",
              "      <td>802.360671</td>\n",
              "      <td>0</td>\n",
              "    </tr>\n",
              "    <tr>\n",
              "      <th>26</th>\n",
              "      <td>809.093182</td>\n",
              "      <td>812.093182</td>\n",
              "      <td>0</td>\n",
              "    </tr>\n",
              "    <tr>\n",
              "      <th>27</th>\n",
              "      <td>842.802305</td>\n",
              "      <td>845.802305</td>\n",
              "      <td>0</td>\n",
              "    </tr>\n",
              "    <tr>\n",
              "      <th>28</th>\n",
              "      <td>868.186376</td>\n",
              "      <td>871.186376</td>\n",
              "      <td>0</td>\n",
              "    </tr>\n",
              "    <tr>\n",
              "      <th>29</th>\n",
              "      <td>886.930020</td>\n",
              "      <td>889.930020</td>\n",
              "      <td>0</td>\n",
              "    </tr>\n",
              "  </tbody>\n",
              "</table>\n",
              "<p>500 rows × 3 columns</p>\n",
              "</div>"
            ],
            "text/plain": [
              "                                           start         end  label\n",
              "filename                      sel_id                               \n",
              "NOPP6_EST_20090329_084500.wav 0        79.080859   82.080859      0\n",
              "                              1       194.200688  197.200688      0\n",
              "                              2       197.613408  200.613408      0\n",
              "                              3       252.888952  255.888952      0\n",
              "                              4       324.618766  327.618766      0\n",
              "...                                          ...         ...    ...\n",
              "NOPP6_EST_20090329_130000.wav 25      799.360671  802.360671      0\n",
              "                              26      809.093182  812.093182      0\n",
              "                              27      842.802305  845.802305      0\n",
              "                              28      868.186376  871.186376      0\n",
              "                              29      886.930020  889.930020      0\n",
              "\n",
              "[500 rows x 3 columns]"
            ]
          },
          "metadata": {},
          "execution_count": 14
        }
      ]
    },
    {
      "cell_type": "code",
      "metadata": {
        "id": "Cv-pZASvm-iY"
      },
      "source": [
        "selections_train = positives_train.append(negatives_train, sort=False)\n",
        "selections_test = positives_test.append(negatives_test, sort=False)"
      ],
      "execution_count": 15,
      "outputs": []
    },
    {
      "cell_type": "code",
      "metadata": {
        "id": "6GVO7_zMnH6l"
      },
      "source": [
        "#choosing spectrogram settings\n",
        "spec_cfg = load_audio_representation('spec_config2.json', name=\"spectrogram\")"
      ],
      "execution_count": 26,
      "outputs": []
    },
    {
      "cell_type": "code",
      "metadata": {
        "colab": {
          "base_uri": "https://localhost:8080/"
        },
        "id": "emMWJjh2nSUD",
        "outputId": "af622771-4873-4f0c-8a9a-cb2efccdaef0"
      },
      "source": [
        "spec_cfg"
      ],
      "execution_count": 27,
      "outputs": [
        {
          "output_type": "execute_result",
          "data": {
            "text/plain": [
              "{'duration': 3.0,\n",
              " 'freq_max': 500,\n",
              " 'freq_min': 0,\n",
              " 'rate': 1000,\n",
              " 'step': 0.032,\n",
              " 'type': 'MagSpectrogram',\n",
              " 'window': 0.256,\n",
              " 'window_func': 'hamming'}"
            ]
          },
          "metadata": {},
          "execution_count": 27
        }
      ]
    },
    {
      "cell_type": "markdown",
      "metadata": {
        "id": "ptKXJty5nsUp"
      },
      "source": [
        "to try: different types of spectrograms (other than Mag) can be tested..."
      ]
    },
    {
      "cell_type": "code",
      "metadata": {
        "colab": {
          "base_uri": "https://localhost:8080/"
        },
        "id": "fjcHYWnUnOZ2",
        "outputId": "4c946c4b-d89e-4418-a27d-0c1b96497fe8"
      },
      "source": [
        "#creating database\n",
        "dbi.create_database(output_file='database.h5', data_dir='data/train',\n",
        "                               dataset_name='train',selections=selections_train,\n",
        "                               audio_repres=spec_cfg)"
      ],
      "execution_count": 28,
      "outputs": [
        {
          "output_type": "stream",
          "name": "stderr",
          "text": [
            "100%|██████████| 5556/5556 [01:11<00:00, 78.13it/s]"
          ]
        },
        {
          "output_type": "stream",
          "name": "stdout",
          "text": [
            "5556 items saved to database.h5\n"
          ]
        },
        {
          "output_type": "stream",
          "name": "stderr",
          "text": [
            "\n"
          ]
        }
      ]
    },
    {
      "cell_type": "code",
      "metadata": {
        "colab": {
          "base_uri": "https://localhost:8080/"
        },
        "id": "5l09qa3HnrG6",
        "outputId": "a26353b8-371e-4f5d-a3dd-c937e438c0d5"
      },
      "source": [
        "dbi.create_database(output_file='database.h5', data_dir='data/test',\n",
        "                               dataset_name='test',selections=selections_test,\n",
        "                               audio_repres=spec_cfg)"
      ],
      "execution_count": 29,
      "outputs": [
        {
          "output_type": "stream",
          "name": "stderr",
          "text": [
            "100%|██████████| 1000/1000 [00:12<00:00, 78.01it/s]"
          ]
        },
        {
          "output_type": "stream",
          "name": "stdout",
          "text": [
            "1000 items saved to database.h5\n"
          ]
        },
        {
          "output_type": "stream",
          "name": "stderr",
          "text": [
            "\n"
          ]
        }
      ]
    },
    {
      "cell_type": "code",
      "metadata": {
        "id": "hjdLMaFkn481"
      },
      "source": [
        "db = dbi.open_file(\"database.h5\", 'r')"
      ],
      "execution_count": 30,
      "outputs": []
    },
    {
      "cell_type": "code",
      "metadata": {
        "colab": {
          "base_uri": "https://localhost:8080/"
        },
        "id": "VWt08ECUn6Hz",
        "outputId": "520a0fcd-0646-462f-89db-755eb67786c4"
      },
      "source": [
        "db"
      ],
      "execution_count": 31,
      "outputs": [
        {
          "output_type": "execute_result",
          "data": {
            "text/plain": [
              "File(filename=database.h5, title='', mode='r', root_uep='/', filters=Filters(complevel=0, shuffle=False, bitshuffle=False, fletcher32=False, least_significant_digit=None))\n",
              "/ (RootGroup) ''\n",
              "/test (Group) ''\n",
              "/test/data (Table(1000,), fletcher32, shuffle, zlib(1)) ''\n",
              "  description := {\n",
              "  \"data\": Float32Col(shape=(94, 129), dflt=0.0, pos=0),\n",
              "  \"filename\": StringCol(itemsize=100, shape=(), dflt=b'', pos=1),\n",
              "  \"id\": UInt32Col(shape=(), dflt=0, pos=2),\n",
              "  \"label\": UInt8Col(shape=(), dflt=0, pos=3),\n",
              "  \"offset\": Float64Col(shape=(), dflt=0.0, pos=4)}\n",
              "  byteorder := 'little'\n",
              "  chunkshape := (5,)\n",
              "/train (Group) ''\n",
              "/train/data (Table(5556,), fletcher32, shuffle, zlib(1)) ''\n",
              "  description := {\n",
              "  \"data\": Float32Col(shape=(94, 129), dflt=0.0, pos=0),\n",
              "  \"filename\": StringCol(itemsize=100, shape=(), dflt=b'', pos=1),\n",
              "  \"id\": UInt32Col(shape=(), dflt=0, pos=2),\n",
              "  \"label\": UInt8Col(shape=(), dflt=0, pos=3),\n",
              "  \"offset\": Float64Col(shape=(), dflt=0.0, pos=4)}\n",
              "  byteorder := 'little'\n",
              "  chunkshape := (5,)"
            ]
          },
          "metadata": {},
          "execution_count": 31
        }
      ]
    },
    {
      "cell_type": "code",
      "metadata": {
        "id": "oO79stJAqlxw"
      },
      "source": [
        "db.close()"
      ],
      "execution_count": 32,
      "outputs": []
    },
    {
      "cell_type": "markdown",
      "metadata": {
        "id": "vrNJoNV6oX02"
      },
      "source": [
        "Stragely enough, the only way to avoid a NodeError further down is to close this database and reopen it O_o"
      ]
    },
    {
      "cell_type": "code",
      "metadata": {
        "id": "jBgTFdeon8M4"
      },
      "source": [
        "import numpy as np\n",
        "np.random.seed(1000)\n",
        "\n",
        "import tensorflow as tf\n",
        "tf.random.set_seed(2000)\n",
        "\n",
        "import ketos.data_handling.database_interface as dbi\n",
        "from ketos.neural_networks.resnet import ResNetInterface\n",
        "from ketos.data_handling.data_feeding import BatchGenerator"
      ],
      "execution_count": 33,
      "outputs": []
    },
    {
      "cell_type": "code",
      "metadata": {
        "id": "crpFUJXmrbT9"
      },
      "source": [
        "db = dbi.open_file(\"database.h5\", 'r')"
      ],
      "execution_count": 34,
      "outputs": []
    },
    {
      "cell_type": "code",
      "metadata": {
        "id": "Wp6RjlzXodk7"
      },
      "source": [
        "#I don't have enough data to split into 3 batches: train, val & test. Therefore I'll be testing on val_data.\n",
        "#This is also intentional to trigger my colleague Benoit >_<\n",
        "train_data = dbi.open_table(db, \"/train/data\")\n",
        "val_data = dbi.open_table(db, \"/test/data\")"
      ],
      "execution_count": 35,
      "outputs": []
    },
    {
      "cell_type": "code",
      "metadata": {
        "id": "0O_Ypsjtvqgo"
      },
      "source": [
        "# Below is an example of a simple data transformation function\n",
        "# (However, in this tutorial we will use the ResNetInterface.transform_batch function provided by Ketos)\n",
        "def transform_batch(X, Y):\n",
        "  x = X.reshape(X.shape[0],X.shape[1],X.shape[2],1)\n",
        "  y = tf.one_hot(Y['label'], depth=2, axis=1).numpy()\n",
        "  return x, y\n",
        "train_generator = BatchGenerator(batch_size=128, data_table=train_data, \n",
        "                                  output_transform_func=ResNetInterface.transform_batch,\n",
        "                                  shuffle=True, refresh_on_epoch_end=True)"
      ],
      "execution_count": 36,
      "outputs": []
    },
    {
      "cell_type": "code",
      "metadata": {
        "id": "NQvgMshavsyA"
      },
      "source": [
        "val_generator = BatchGenerator(batch_size=128, data_table=val_data,\n",
        "                                 output_transform_func=ResNetInterface.transform_batch,\n",
        "                                 shuffle=True, refresh_on_epoch_end=False)"
      ],
      "execution_count": 37,
      "outputs": []
    },
    {
      "cell_type": "code",
      "metadata": {
        "colab": {
          "resources": {
            "http://localhost:8080/nbextensions/google.colab/files.js": {
              "data": "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",
              "ok": true,
              "headers": [
                [
                  "content-type",
                  "application/javascript"
                ]
              ],
              "status": 200,
              "status_text": ""
            }
          },
          "base_uri": "https://localhost:8080/",
          "height": 73
        },
        "id": "sLxO6cvvyDFM",
        "outputId": "841765be-5b65-4169-e7d8-bbffa647feae"
      },
      "source": [
        "#retrieveing the packaged model\n",
        "narw = files.upload()"
      ],
      "execution_count": 38,
      "outputs": [
        {
          "output_type": "display_data",
          "data": {
            "text/html": [
              "\n",
              "     <input type=\"file\" id=\"files-5599d784-f801-4a49-92ec-051445f464e5\" name=\"files[]\" multiple disabled\n",
              "        style=\"border:none\" />\n",
              "     <output id=\"result-5599d784-f801-4a49-92ec-051445f464e5\">\n",
              "      Upload widget is only available when the cell has been executed in the\n",
              "      current browser session. Please rerun this cell to enable.\n",
              "      </output>\n",
              "      <script src=\"/nbextensions/google.colab/files.js\"></script> "
            ],
            "text/plain": [
              "<IPython.core.display.HTML object>"
            ]
          },
          "metadata": {}
        },
        {
          "output_type": "stream",
          "name": "stdout",
          "text": [
            "Saving narw.kt to narw.kt\n"
          ]
        }
      ]
    },
    {
      "cell_type": "code",
      "metadata": {
        "colab": {
          "resources": {
            "http://localhost:8080/nbextensions/google.colab/files.js": {
              "data": "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",
              "ok": true,
              "headers": [
                [
                  "content-type",
                  "application/javascript"
                ]
              ],
              "status": 200,
              "status_text": ""
            }
          },
          "base_uri": "https://localhost:8080/",
          "height": 73
        },
        "id": "dxQn1H0rKyKB",
        "outputId": "01baf854-c8ff-45c0-9213-3b29d3dd2ff7"
      },
      "source": [
        "recipe_file = files.upload()"
      ],
      "execution_count": 39,
      "outputs": [
        {
          "output_type": "display_data",
          "data": {
            "text/html": [
              "\n",
              "     <input type=\"file\" id=\"files-37dbf7df-a0c3-4a7a-a277-103b927183bf\" name=\"files[]\" multiple disabled\n",
              "        style=\"border:none\" />\n",
              "     <output id=\"result-37dbf7df-a0c3-4a7a-a277-103b927183bf\">\n",
              "      Upload widget is only available when the cell has been executed in the\n",
              "      current browser session. Please rerun this cell to enable.\n",
              "      </output>\n",
              "      <script src=\"/nbextensions/google.colab/files.js\"></script> "
            ],
            "text/plain": [
              "<IPython.core.display.HTML object>"
            ]
          },
          "metadata": {}
        },
        {
          "output_type": "stream",
          "name": "stdout",
          "text": [
            "Saving recipe.json to recipe.json\n"
          ]
        }
      ]
    },
    {
      "cell_type": "code",
      "metadata": {
        "id": "aCnDSZsawh1A"
      },
      "source": [
        "import ketos.neural_networks.dev_utils.detection as det\n",
        "from ketos.audio.spectrogram import MagSpectrogram\n",
        "from ketos.audio.audio_loader import AudioFrameLoader\n",
        "from ketos.neural_networks.resnet import ResNetInterface"
      ],
      "execution_count": 40,
      "outputs": []
    },
    {
      "cell_type": "code",
      "metadata": {
        "id": "VCrAXVNr7LpX"
      },
      "source": [
        "resnet = ResNetInterface.build_from_recipe_file(\"recipe.json\")"
      ],
      "execution_count": 41,
      "outputs": []
    },
    {
      "cell_type": "code",
      "metadata": {
        "id": "wB9MZVkHLBcv"
      },
      "source": [
        "resnet.train_generator = train_generator\n",
        "resnet.val_generator = val_generator"
      ],
      "execution_count": 42,
      "outputs": []
    },
    {
      "cell_type": "code",
      "metadata": {
        "id": "R0kNdknJLn29"
      },
      "source": [
        "resnet.checkpoint_dir = \"checkpoints\""
      ],
      "execution_count": 43,
      "outputs": []
    },
    {
      "cell_type": "code",
      "metadata": {
        "colab": {
          "base_uri": "https://localhost:8080/",
          "height": 1000
        },
        "id": "SaBTxWkVLqzx",
        "outputId": "8bdf398d-13c2-4265-e991-f887a42fa6a6"
      },
      "source": [
        "resnet.train_loop(n_epochs=30, verbose=True, log_csv=True, csv_name='log.csv')\n",
        "\n",
        "#train_loop(n_epochs, verbose=True, validate=True, log_tensorboard=False, tensorboard_metrics_name='tensorboard_metrics', log_csv=False, csv_name='log.csv', checkpoint_freq=5, early_stopping=False)"
      ],
      "execution_count": 45,
      "outputs": [
        {
          "output_type": "stream",
          "name": "stdout",
          "text": [
            "\n",
            "====================================================================================\n",
            "Epoch: 1 \n",
            "train_loss: 0.09483323246240616\n",
            "train_CategoricalAccuracy: 0.952 train_Precision: 0.968 train_Recall: 0.935 \n",
            "val_loss: 0.44631704688072205\n",
            "val_CategoricalAccuracy: 0.555 val_Precision: 0.951 val_Recall: 0.116 \n",
            "\n",
            "====================================================================================\n",
            "\n",
            "====================================================================================\n",
            "Epoch: 2 \n",
            "train_loss: 0.07572465389966965\n",
            "train_CategoricalAccuracy: 0.965 train_Precision: 0.974 train_Recall: 0.956 \n",
            "val_loss: 0.31321021914482117\n",
            "val_CategoricalAccuracy: 0.778 val_Precision: 0.899 val_Recall: 0.626 \n",
            "\n",
            "====================================================================================\n",
            "\n",
            "====================================================================================\n",
            "Epoch: 3 \n",
            "train_loss: 0.05262605473399162\n",
            "train_CategoricalAccuracy: 0.979 train_Precision: 0.982 train_Recall: 0.974 \n",
            "val_loss: 0.3740425109863281\n",
            "val_CategoricalAccuracy: 0.679 val_Precision: 0.909 val_Recall: 0.398 \n",
            "\n",
            "====================================================================================\n",
            "\n",
            "====================================================================================\n",
            "Epoch: 4 \n",
            "train_loss: 0.04490292817354202\n",
            "train_CategoricalAccuracy: 0.981 train_Precision: 0.984 train_Recall: 0.979 \n",
            "val_loss: 0.26266220211982727\n",
            "val_CategoricalAccuracy: 0.765 val_Precision: 0.903 val_Recall: 0.594 \n",
            "\n",
            "====================================================================================\n",
            "\n",
            "====================================================================================\n",
            "Epoch: 5 \n",
            "train_loss: 0.03833281993865967\n",
            "train_CategoricalAccuracy: 0.985 train_Precision: 0.987 train_Recall: 0.983 \n",
            "val_loss: 0.3222576975822449\n",
            "val_CategoricalAccuracy: 0.683 val_Precision: 0.910 val_Recall: 0.406 \n",
            "\n",
            "====================================================================================\n",
            "\n",
            "====================================================================================\n",
            "Epoch: 6 \n",
            "train_loss: 0.033619798719882965\n",
            "train_CategoricalAccuracy: 0.988 train_Precision: 0.989 train_Recall: 0.987 \n",
            "val_loss: 0.20994755625724792\n",
            "val_CategoricalAccuracy: 0.803 val_Precision: 0.900 val_Recall: 0.682 \n",
            "\n",
            "====================================================================================\n",
            "\n",
            "====================================================================================\n",
            "Epoch: 7 \n",
            "train_loss: 0.026114601641893387\n",
            "train_CategoricalAccuracy: 0.992 train_Precision: 0.992 train_Recall: 0.991 \n",
            "val_loss: 0.18090052902698517\n",
            "val_CategoricalAccuracy: 0.842 val_Precision: 0.898 val_Recall: 0.772 \n",
            "\n",
            "====================================================================================\n",
            "\n",
            "====================================================================================\n",
            "Epoch: 8 \n",
            "train_loss: 0.02412993647158146\n",
            "train_CategoricalAccuracy: 0.993 train_Precision: 0.995 train_Recall: 0.991 \n",
            "val_loss: 0.14379429817199707\n",
            "val_CategoricalAccuracy: 0.878 val_Precision: 0.900 val_Recall: 0.850 \n",
            "\n",
            "====================================================================================\n",
            "\n",
            "====================================================================================\n",
            "Epoch: 9 \n",
            "train_loss: 0.02040073275566101\n",
            "train_CategoricalAccuracy: 0.995 train_Precision: 0.995 train_Recall: 0.995 \n",
            "val_loss: 0.14247064292430878\n",
            "val_CategoricalAccuracy: 0.881 val_Precision: 0.903 val_Recall: 0.854 \n",
            "\n",
            "====================================================================================\n",
            "\n",
            "====================================================================================\n",
            "Epoch: 10 \n",
            "train_loss: 0.018594255670905113\n",
            "train_CategoricalAccuracy: 0.995 train_Precision: 0.995 train_Recall: 0.995 \n",
            "val_loss: 0.13436582684516907\n",
            "val_CategoricalAccuracy: 0.879 val_Precision: 0.899 val_Recall: 0.854 \n",
            "\n",
            "====================================================================================\n",
            "\n",
            "====================================================================================\n",
            "Epoch: 11 \n",
            "train_loss: 0.015416978858411312\n",
            "train_CategoricalAccuracy: 0.996 train_Precision: 0.996 train_Recall: 0.997 \n",
            "val_loss: 0.12588907778263092\n",
            "val_CategoricalAccuracy: 0.896 val_Precision: 0.898 val_Recall: 0.894 \n",
            "\n",
            "====================================================================================\n",
            "\n",
            "====================================================================================\n",
            "Epoch: 12 \n",
            "train_loss: 0.015700653195381165\n",
            "train_CategoricalAccuracy: 0.996 train_Precision: 0.997 train_Recall: 0.996 \n",
            "val_loss: 0.12613297998905182\n",
            "val_CategoricalAccuracy: 0.887 val_Precision: 0.897 val_Recall: 0.874 \n",
            "\n",
            "====================================================================================\n",
            "\n",
            "====================================================================================\n",
            "Epoch: 13 \n",
            "train_loss: 0.012505616061389446\n",
            "train_CategoricalAccuracy: 0.998 train_Precision: 0.998 train_Recall: 0.999 \n",
            "val_loss: 0.12804923951625824\n",
            "val_CategoricalAccuracy: 0.887 val_Precision: 0.894 val_Recall: 0.878 \n",
            "\n",
            "====================================================================================\n",
            "\n",
            "====================================================================================\n",
            "Epoch: 14 \n",
            "train_loss: 0.010943466797471046\n",
            "train_CategoricalAccuracy: 0.998 train_Precision: 0.998 train_Recall: 0.998 \n",
            "val_loss: 0.11936143785715103\n",
            "val_CategoricalAccuracy: 0.898 val_Precision: 0.895 val_Recall: 0.902 \n",
            "\n",
            "====================================================================================\n",
            "\n",
            "====================================================================================\n",
            "Epoch: 15 \n",
            "train_loss: 0.00960705615580082\n",
            "train_CategoricalAccuracy: 0.999 train_Precision: 0.998 train_Recall: 0.999 \n",
            "val_loss: 0.11582231521606445\n",
            "val_CategoricalAccuracy: 0.905 val_Precision: 0.895 val_Recall: 0.918 \n",
            "\n",
            "====================================================================================\n",
            "\n",
            "====================================================================================\n",
            "Epoch: 16 \n",
            "train_loss: 0.010814896784722805\n",
            "train_CategoricalAccuracy: 0.997 train_Precision: 0.997 train_Recall: 0.998 \n",
            "val_loss: 0.13066303730010986\n",
            "val_CategoricalAccuracy: 0.881 val_Precision: 0.896 val_Recall: 0.862 \n",
            "\n",
            "====================================================================================\n"
          ]
        },
        {
          "output_type": "error",
          "ename": "KeyboardInterrupt",
          "evalue": "ignored",
          "traceback": [
            "\u001b[0;31m---------------------------------------------------------------------------\u001b[0m",
            "\u001b[0;31mKeyboardInterrupt\u001b[0m                         Traceback (most recent call last)",
            "\u001b[0;32m<ipython-input-45-7e329bea9e60>\u001b[0m in \u001b[0;36m<module>\u001b[0;34m()\u001b[0m\n\u001b[0;32m----> 1\u001b[0;31m \u001b[0mresnet\u001b[0m\u001b[0;34m.\u001b[0m\u001b[0mtrain_loop\u001b[0m\u001b[0;34m(\u001b[0m\u001b[0mn_epochs\u001b[0m\u001b[0;34m=\u001b[0m\u001b[0;36m30\u001b[0m\u001b[0;34m,\u001b[0m \u001b[0mverbose\u001b[0m\u001b[0;34m=\u001b[0m\u001b[0;32mTrue\u001b[0m\u001b[0;34m,\u001b[0m \u001b[0mlog_csv\u001b[0m\u001b[0;34m=\u001b[0m\u001b[0;32mTrue\u001b[0m\u001b[0;34m,\u001b[0m \u001b[0mcsv_name\u001b[0m\u001b[0;34m=\u001b[0m\u001b[0;34m'log.csv'\u001b[0m\u001b[0;34m)\u001b[0m\u001b[0;34m\u001b[0m\u001b[0;34m\u001b[0m\u001b[0m\n\u001b[0m\u001b[1;32m      2\u001b[0m \u001b[0;34m\u001b[0m\u001b[0m\n\u001b[1;32m      3\u001b[0m \u001b[0;31m#train_loop(n_epochs, verbose=True, validate=True, log_tensorboard=False, tensorboard_metrics_name='tensorboard_metrics', log_csv=False, csv_name='log.csv', checkpoint_freq=5, early_stopping=False)\u001b[0m\u001b[0;34m\u001b[0m\u001b[0;34m\u001b[0m\u001b[0;34m\u001b[0m\u001b[0m\n",
            "\u001b[0;32m/usr/local/lib/python3.7/dist-packages/ketos/neural_networks/dev_utils/nn_interface.py\u001b[0m in \u001b[0;36mtrain_loop\u001b[0;34m(self, n_epochs, verbose, validate, log_tensorboard, tensorboard_metrics_name, log_csv, csv_name, checkpoint_freq, early_stopping)\u001b[0m\n\u001b[1;32m   1294\u001b[0m             \u001b[0;32mfor\u001b[0m \u001b[0mtrain_batch_id\u001b[0m \u001b[0;32min\u001b[0m \u001b[0mrange\u001b[0m\u001b[0;34m(\u001b[0m\u001b[0mself\u001b[0m\u001b[0;34m.\u001b[0m\u001b[0m_train_generator\u001b[0m\u001b[0;34m.\u001b[0m\u001b[0mn_batches\u001b[0m\u001b[0;34m)\u001b[0m\u001b[0;34m:\u001b[0m\u001b[0;34m\u001b[0m\u001b[0;34m\u001b[0m\u001b[0m\n\u001b[1;32m   1295\u001b[0m                 \u001b[0mtrain_X\u001b[0m\u001b[0;34m,\u001b[0m \u001b[0mtrain_Y\u001b[0m \u001b[0;34m=\u001b[0m \u001b[0mnext\u001b[0m\u001b[0;34m(\u001b[0m\u001b[0mself\u001b[0m\u001b[0;34m.\u001b[0m\u001b[0m_train_generator\u001b[0m\u001b[0;34m)\u001b[0m\u001b[0;34m\u001b[0m\u001b[0;34m\u001b[0m\u001b[0m\n\u001b[0;32m-> 1296\u001b[0;31m                 \u001b[0mself\u001b[0m\u001b[0;34m.\u001b[0m\u001b[0m_train_step\u001b[0m\u001b[0;34m(\u001b[0m\u001b[0mtrain_X\u001b[0m\u001b[0;34m,\u001b[0m \u001b[0mtrain_Y\u001b[0m\u001b[0;34m)\u001b[0m\u001b[0;34m\u001b[0m\u001b[0;34m\u001b[0m\u001b[0m\n\u001b[0m\u001b[1;32m   1297\u001b[0m \u001b[0;34m\u001b[0m\u001b[0m\n\u001b[1;32m   1298\u001b[0m             \u001b[0;32mif\u001b[0m \u001b[0mverbose\u001b[0m \u001b[0;34m==\u001b[0m \u001b[0;32mTrue\u001b[0m\u001b[0;34m:\u001b[0m\u001b[0;34m\u001b[0m\u001b[0;34m\u001b[0m\u001b[0m\n",
            "\u001b[0;32m/usr/local/lib/python3.7/dist-packages/tensorflow/python/util/traceback_utils.py\u001b[0m in \u001b[0;36merror_handler\u001b[0;34m(*args, **kwargs)\u001b[0m\n\u001b[1;32m    148\u001b[0m     \u001b[0mfiltered_tb\u001b[0m \u001b[0;34m=\u001b[0m \u001b[0;32mNone\u001b[0m\u001b[0;34m\u001b[0m\u001b[0;34m\u001b[0m\u001b[0m\n\u001b[1;32m    149\u001b[0m     \u001b[0;32mtry\u001b[0m\u001b[0;34m:\u001b[0m\u001b[0;34m\u001b[0m\u001b[0;34m\u001b[0m\u001b[0m\n\u001b[0;32m--> 150\u001b[0;31m       \u001b[0;32mreturn\u001b[0m \u001b[0mfn\u001b[0m\u001b[0;34m(\u001b[0m\u001b[0;34m*\u001b[0m\u001b[0margs\u001b[0m\u001b[0;34m,\u001b[0m \u001b[0;34m**\u001b[0m\u001b[0mkwargs\u001b[0m\u001b[0;34m)\u001b[0m\u001b[0;34m\u001b[0m\u001b[0;34m\u001b[0m\u001b[0m\n\u001b[0m\u001b[1;32m    151\u001b[0m     \u001b[0;32mexcept\u001b[0m \u001b[0mException\u001b[0m \u001b[0;32mas\u001b[0m \u001b[0me\u001b[0m\u001b[0;34m:\u001b[0m\u001b[0;34m\u001b[0m\u001b[0;34m\u001b[0m\u001b[0m\n\u001b[1;32m    152\u001b[0m       \u001b[0mfiltered_tb\u001b[0m \u001b[0;34m=\u001b[0m \u001b[0m_process_traceback_frames\u001b[0m\u001b[0;34m(\u001b[0m\u001b[0me\u001b[0m\u001b[0;34m.\u001b[0m\u001b[0m__traceback__\u001b[0m\u001b[0;34m)\u001b[0m\u001b[0;34m\u001b[0m\u001b[0;34m\u001b[0m\u001b[0m\n",
            "\u001b[0;32m/usr/local/lib/python3.7/dist-packages/tensorflow/python/eager/def_function.py\u001b[0m in \u001b[0;36m__call__\u001b[0;34m(self, *args, **kwds)\u001b[0m\n\u001b[1;32m    908\u001b[0m \u001b[0;34m\u001b[0m\u001b[0m\n\u001b[1;32m    909\u001b[0m       \u001b[0;32mwith\u001b[0m \u001b[0mOptionalXlaContext\u001b[0m\u001b[0;34m(\u001b[0m\u001b[0mself\u001b[0m\u001b[0;34m.\u001b[0m\u001b[0m_jit_compile\u001b[0m\u001b[0;34m)\u001b[0m\u001b[0;34m:\u001b[0m\u001b[0;34m\u001b[0m\u001b[0;34m\u001b[0m\u001b[0m\n\u001b[0;32m--> 910\u001b[0;31m         \u001b[0mresult\u001b[0m \u001b[0;34m=\u001b[0m \u001b[0mself\u001b[0m\u001b[0;34m.\u001b[0m\u001b[0m_call\u001b[0m\u001b[0;34m(\u001b[0m\u001b[0;34m*\u001b[0m\u001b[0margs\u001b[0m\u001b[0;34m,\u001b[0m \u001b[0;34m**\u001b[0m\u001b[0mkwds\u001b[0m\u001b[0;34m)\u001b[0m\u001b[0;34m\u001b[0m\u001b[0;34m\u001b[0m\u001b[0m\n\u001b[0m\u001b[1;32m    911\u001b[0m \u001b[0;34m\u001b[0m\u001b[0m\n\u001b[1;32m    912\u001b[0m       \u001b[0mnew_tracing_count\u001b[0m \u001b[0;34m=\u001b[0m \u001b[0mself\u001b[0m\u001b[0;34m.\u001b[0m\u001b[0mexperimental_get_tracing_count\u001b[0m\u001b[0;34m(\u001b[0m\u001b[0;34m)\u001b[0m\u001b[0;34m\u001b[0m\u001b[0;34m\u001b[0m\u001b[0m\n",
            "\u001b[0;32m/usr/local/lib/python3.7/dist-packages/tensorflow/python/eager/def_function.py\u001b[0m in \u001b[0;36m_call\u001b[0;34m(self, *args, **kwds)\u001b[0m\n\u001b[1;32m    940\u001b[0m       \u001b[0;31m# In this case we have created variables on the first call, so we run the\u001b[0m\u001b[0;34m\u001b[0m\u001b[0;34m\u001b[0m\u001b[0;34m\u001b[0m\u001b[0m\n\u001b[1;32m    941\u001b[0m       \u001b[0;31m# defunned version which is guaranteed to never create variables.\u001b[0m\u001b[0;34m\u001b[0m\u001b[0;34m\u001b[0m\u001b[0;34m\u001b[0m\u001b[0m\n\u001b[0;32m--> 942\u001b[0;31m       \u001b[0;32mreturn\u001b[0m \u001b[0mself\u001b[0m\u001b[0;34m.\u001b[0m\u001b[0m_stateless_fn\u001b[0m\u001b[0;34m(\u001b[0m\u001b[0;34m*\u001b[0m\u001b[0margs\u001b[0m\u001b[0;34m,\u001b[0m \u001b[0;34m**\u001b[0m\u001b[0mkwds\u001b[0m\u001b[0;34m)\u001b[0m  \u001b[0;31m# pylint: disable=not-callable\u001b[0m\u001b[0;34m\u001b[0m\u001b[0;34m\u001b[0m\u001b[0m\n\u001b[0m\u001b[1;32m    943\u001b[0m     \u001b[0;32melif\u001b[0m \u001b[0mself\u001b[0m\u001b[0;34m.\u001b[0m\u001b[0m_stateful_fn\u001b[0m \u001b[0;32mis\u001b[0m \u001b[0;32mnot\u001b[0m \u001b[0;32mNone\u001b[0m\u001b[0;34m:\u001b[0m\u001b[0;34m\u001b[0m\u001b[0;34m\u001b[0m\u001b[0m\n\u001b[1;32m    944\u001b[0m       \u001b[0;31m# Release the lock early so that multiple threads can perform the call\u001b[0m\u001b[0;34m\u001b[0m\u001b[0;34m\u001b[0m\u001b[0;34m\u001b[0m\u001b[0m\n",
            "\u001b[0;32m/usr/local/lib/python3.7/dist-packages/tensorflow/python/eager/function.py\u001b[0m in \u001b[0;36m__call__\u001b[0;34m(self, *args, **kwargs)\u001b[0m\n\u001b[1;32m   3129\u001b[0m        filtered_flat_args) = self._maybe_define_function(args, kwargs)\n\u001b[1;32m   3130\u001b[0m     return graph_function._call_flat(\n\u001b[0;32m-> 3131\u001b[0;31m         filtered_flat_args, captured_inputs=graph_function.captured_inputs)  # pylint: disable=protected-access\n\u001b[0m\u001b[1;32m   3132\u001b[0m \u001b[0;34m\u001b[0m\u001b[0m\n\u001b[1;32m   3133\u001b[0m   \u001b[0;34m@\u001b[0m\u001b[0mproperty\u001b[0m\u001b[0;34m\u001b[0m\u001b[0;34m\u001b[0m\u001b[0m\n",
            "\u001b[0;32m/usr/local/lib/python3.7/dist-packages/tensorflow/python/eager/function.py\u001b[0m in \u001b[0;36m_call_flat\u001b[0;34m(self, args, captured_inputs, cancellation_manager)\u001b[0m\n\u001b[1;32m   1958\u001b[0m       \u001b[0;31m# No tape is watching; skip to running the function.\u001b[0m\u001b[0;34m\u001b[0m\u001b[0;34m\u001b[0m\u001b[0;34m\u001b[0m\u001b[0m\n\u001b[1;32m   1959\u001b[0m       return self._build_call_outputs(self._inference_function.call(\n\u001b[0;32m-> 1960\u001b[0;31m           ctx, args, cancellation_manager=cancellation_manager))\n\u001b[0m\u001b[1;32m   1961\u001b[0m     forward_backward = self._select_forward_and_backward_functions(\n\u001b[1;32m   1962\u001b[0m         \u001b[0margs\u001b[0m\u001b[0;34m,\u001b[0m\u001b[0;34m\u001b[0m\u001b[0;34m\u001b[0m\u001b[0m\n",
            "\u001b[0;32m/usr/local/lib/python3.7/dist-packages/tensorflow/python/eager/function.py\u001b[0m in \u001b[0;36mcall\u001b[0;34m(self, ctx, args, cancellation_manager)\u001b[0m\n\u001b[1;32m    601\u001b[0m               \u001b[0minputs\u001b[0m\u001b[0;34m=\u001b[0m\u001b[0margs\u001b[0m\u001b[0;34m,\u001b[0m\u001b[0;34m\u001b[0m\u001b[0;34m\u001b[0m\u001b[0m\n\u001b[1;32m    602\u001b[0m               \u001b[0mattrs\u001b[0m\u001b[0;34m=\u001b[0m\u001b[0mattrs\u001b[0m\u001b[0;34m,\u001b[0m\u001b[0;34m\u001b[0m\u001b[0;34m\u001b[0m\u001b[0m\n\u001b[0;32m--> 603\u001b[0;31m               ctx=ctx)\n\u001b[0m\u001b[1;32m    604\u001b[0m         \u001b[0;32melse\u001b[0m\u001b[0;34m:\u001b[0m\u001b[0;34m\u001b[0m\u001b[0;34m\u001b[0m\u001b[0m\n\u001b[1;32m    605\u001b[0m           outputs = execute.execute_with_cancellation(\n",
            "\u001b[0;32m/usr/local/lib/python3.7/dist-packages/tensorflow/python/eager/execute.py\u001b[0m in \u001b[0;36mquick_execute\u001b[0;34m(op_name, num_outputs, inputs, attrs, ctx, name)\u001b[0m\n\u001b[1;32m     57\u001b[0m     \u001b[0mctx\u001b[0m\u001b[0;34m.\u001b[0m\u001b[0mensure_initialized\u001b[0m\u001b[0;34m(\u001b[0m\u001b[0;34m)\u001b[0m\u001b[0;34m\u001b[0m\u001b[0;34m\u001b[0m\u001b[0m\n\u001b[1;32m     58\u001b[0m     tensors = pywrap_tfe.TFE_Py_Execute(ctx._handle, device_name, op_name,\n\u001b[0;32m---> 59\u001b[0;31m                                         inputs, attrs, num_outputs)\n\u001b[0m\u001b[1;32m     60\u001b[0m   \u001b[0;32mexcept\u001b[0m \u001b[0mcore\u001b[0m\u001b[0;34m.\u001b[0m\u001b[0m_NotOkStatusException\u001b[0m \u001b[0;32mas\u001b[0m \u001b[0me\u001b[0m\u001b[0;34m:\u001b[0m\u001b[0;34m\u001b[0m\u001b[0;34m\u001b[0m\u001b[0m\n\u001b[1;32m     61\u001b[0m     \u001b[0;32mif\u001b[0m \u001b[0mname\u001b[0m \u001b[0;32mis\u001b[0m \u001b[0;32mnot\u001b[0m \u001b[0;32mNone\u001b[0m\u001b[0;34m:\u001b[0m\u001b[0;34m\u001b[0m\u001b[0;34m\u001b[0m\u001b[0m\n",
            "\u001b[0;31mKeyboardInterrupt\u001b[0m: "
          ]
        }
      ]
    },
    {
      "cell_type": "code",
      "metadata": {
        "id": "F-Xwh9eYNCyq"
      },
      "source": [
        "db.close()"
      ],
      "execution_count": 46,
      "outputs": []
    },
    {
      "cell_type": "code",
      "metadata": {
        "id": "L3uZ7rUYNEaD"
      },
      "source": [
        "#saving the model\n",
        "#Ketos uses a .kt format where they compress the weights and the json recipe altogether\n",
        "resnet.save_model('Mobydick1.kt',audio_repr_file='spec_config2.json')"
      ],
      "execution_count": 47,
      "outputs": []
    }
  ]
}