{
 "cells": [
  {
   "cell_type": "markdown",
   "id": "7c8d25de",
   "metadata": {},
   "source": [
    "# Artificial neural network (tutorial)"
   ]
  },
  {
   "cell_type": "markdown",
   "id": "2e562d82",
   "metadata": {},
   "source": [
    "## 1- Architecture of the model"
   ]
  },
  {
   "cell_type": "markdown",
   "id": "3612eeab",
   "metadata": {},
   "source": [
    "### Keras Sequantial Model"
   ]
  },
  {
   "cell_type": "markdown",
   "id": "81dd36f1",
   "metadata": {},
   "source": [
    "An artificial neural network is organized in layers: <br>\n",
    "\n",
    "- Dense (or fully connected layer)\n",
    "- Convolutional layers\n",
    "- Pooling layers\n",
    "- Recurrent layers\n",
    "- Normalization layers\n",
    "- etc.\n",
    "<br>"
   ]
  },
  {
   "cell_type": "markdown",
   "id": "94e7f871",
   "metadata": {},
   "source": [
    "The sequential model is a linear stack of layers:"
   ]
  },
  {
   "cell_type": "code",
   "execution_count": 8,
   "id": "97c46548",
   "metadata": {},
   "outputs": [],
   "source": [
    "import tensorflow as tf\n",
    "from tensorflow import keras\n",
    "from tensorflow.keras.models import Sequential\n",
    "from tensorflow.keras.layers import Dense, Activation"
   ]
  },
  {
   "cell_type": "markdown",
   "id": "24d29768",
   "metadata": {},
   "source": [
    "We are creating a variable called \"model\" and setting it equal to an instance of a sequential object. Within the constructor we are passing an array. The array has 2 \"dense\" objects.\n",
    "\n",
    "__Dense__ is a type of layer. It connects each input to each output within the layer:\n",
    "\n",
    "Inputs -- (w=0.2)----> DENSE -----> Output\n",
    "\n",
    "output=activation(weighted sum of inputs)"
   ]
  },
  {
   "cell_type": "markdown",
   "id": "2ca2d0d9",
   "metadata": {},
   "source": [
    "### Schematic representation of the model we are building:"
   ]
  },
  {
   "cell_type": "markdown",
   "id": "f779020d",
   "metadata": {},
   "source": [
    "<img src=\"ANNModelType.png\">"
   ]
  },
  {
   "cell_type": "code",
   "execution_count": 14,
   "id": "428aa704",
   "metadata": {},
   "outputs": [],
   "source": [
    "# 3input nodes connecting to 5 \"dense\" layers and 2 output nodes:\n",
    "model = Sequential([\n",
    "    Dense(5, input_shape=(3,), activation='relu'),\n",
    "    Dense(2, activation='softmax'),\n",
    "])"
   ]
  },
  {
   "cell_type": "code",
   "execution_count": 19,
   "id": "3364b6d3",
   "metadata": {},
   "outputs": [],
   "source": [
    "import numpy as np\n",
    "from scipy import ndimage\n",
    "import matplotlib.pyplot as plt\n",
    "%matplotlib inline\n",
    "\n",
    "#img = np.expand_dims(ndimage.imread('NN.PNG'),0)\n",
    "#plt.imshow(img[0])"
   ]
  },
  {
   "cell_type": "markdown",
   "id": "03bbeaa3",
   "metadata": {},
   "source": [
    "### Activation Function"
   ]
  },
  {
   "cell_type": "markdown",
   "id": "a8d5105b",
   "metadata": {},
   "source": [
    "Activation function: Receives weighted sum and transforms into upper limit/lower limit. <br> \n",
    "\n",
    "Examples:\n",
    "- Sigmoïd: Negative input -> small number, Positive input -> large number, close to zero -> 0.5\n",
    "<img src=\"Sigm.png\">\n",
    "\n",
    "- ReLu: Rectified linear unit. Transforms the input to the maximum of 0 or input itself. More positif the neuron is, more activated it is. \n",
    "<img src=\"ReLu.png\">\n"
   ]
  },
  {
   "cell_type": "code",
   "execution_count": 20,
   "id": "b7467777",
   "metadata": {},
   "outputs": [],
   "source": [
    "#Another way to build the sequential model\n",
    "model = Sequential()\n",
    "model.add(Dense(5, input_shape=(3,)))\n",
    "model.add(Activation('relu'))"
   ]
  },
  {
   "cell_type": "markdown",
   "id": "d0dc3b8a",
   "metadata": {},
   "source": [
    "## 2- Training the model"
   ]
  },
  {
   "cell_type": "markdown",
   "id": "5318f488",
   "metadata": {},
   "source": [
    "- Optimizing weights : \n",
    "    - with stochastic gradient descent (SGD): assign the weight to minimize loss function.   \n",
    "- Epoch: one single pass of the data throught the model. \n",
    "\n",
    "Model learns during this repeated process. \n",
    "At the end of each epoch the model produces an output (0.75 cat, 0.25 dog for example) and calculates the gradient of the loss function over the weight of the input. \n",
    "\n",
    "d(loss) / d(weight) * (learning rate -small number-)\n",
    "\n",
    "<br>"
   ]
  },
  {
   "cell_type": "markdown",
   "id": "24285b4e",
   "metadata": {},
   "source": [
    "### Producing some dummy data "
   ]
  },
  {
   "cell_type": "markdown",
   "id": "6432a84c",
   "metadata": {},
   "source": [
    "__Made up scenario:__\n",
    "- We are testing a drug in a population whith age raging from 13 years old to 100 years old\n",
    "- There are 2100 participants, half of them are under 65 years old, other half is above (duh!)\n",
    "- Around 95% of the participants over 65 years old experienced side effects\n",
    "- Around 95% of the participants under 65 years old did not experience side effects"
   ]
  },
  {
   "cell_type": "code",
   "execution_count": 34,
   "id": "537e72d5",
   "metadata": {},
   "outputs": [],
   "source": [
    "import numpy as np\n",
    "from random import randint\n",
    "from sklearn.utils import shuffle\n",
    "from sklearn.preprocessing import MinMaxScaler"
   ]
  },
  {
   "cell_type": "code",
   "execution_count": 32,
   "id": "9d7df226",
   "metadata": {},
   "outputs": [],
   "source": [
    "train_labels = []\n",
    "train_samples = []\n",
    "test_samples = []\n",
    "test_labels = []"
   ]
  },
  {
   "cell_type": "code",
   "execution_count": 35,
   "id": "0af8fdaf",
   "metadata": {},
   "outputs": [],
   "source": [
    "'''We are creating the database ourselves. Experiencing side effects gives \"1\" as lable, \n",
    "not experiencing side effects gives \"0\"'''\n",
    "\n",
    "for i in range(50):\n",
    "#The ~5% of younger individuals who did experience side effects:\n",
    "    random_younger = randint(13,64)\n",
    "    train_samples.append(random_younger)\n",
    "    train_labels.append(1)\n",
    "#The ~5% of older individuals who did not experience side effects\n",
    "    random_older = randint(65,100)\n",
    "    train_samples.append(random_older)\n",
    "    train_labels.append(0)\n",
    "for i in range (1000):\n",
    "#The 95% of youngers who didn't experience side effects\n",
    "    random_younger = randint(13,64)\n",
    "    train_samples.append(random_younger)\n",
    "    train_labels.append(0)\n",
    "#The 95% olders who did experience side effects\n",
    "    random_older = randint(65,100)\n",
    "    train_samples.append(random_older)\n",
    "    train_labels.append(1)"
   ]
  },
  {
   "cell_type": "code",
   "execution_count": 36,
   "id": "11853f79",
   "metadata": {},
   "outputs": [],
   "source": [
    "for i in range(50):\n",
    "#The ~5% of younger individuals who did experience side effects:\n",
    "    random_younger = randint(13,64)\n",
    "    test_samples.append(random_younger)\n",
    "    test_labels.append(1)\n",
    "#The ~5% of older individuals who did not experience side effects\n",
    "    random_older = randint(65,100)\n",
    "    test_samples.append(random_older)\n",
    "    test_labels.append(0)\n",
    "for i in range (1000):\n",
    "#The 95% of youngers who didn't experience side effects\n",
    "    random_younger = randint(13,64)\n",
    "    test_samples.append(random_younger)\n",
    "    test_labels.append(0)\n",
    "#The 95% olders who did experience side effects\n",
    "    random_older = randint(65,100)\n",
    "    test_samples.append(random_older)\n",
    "    test_labels.append(1)"
   ]
  },
  {
   "cell_type": "markdown",
   "id": "fc5da39c",
   "metadata": {},
   "source": [
    "create a numpy array with the formed lists\n",
    "shuffle to get rid of any order."
   ]
  },
  {
   "cell_type": "code",
   "execution_count": 38,
   "id": "0d0fdb61",
   "metadata": {},
   "outputs": [],
   "source": [
    "train_labels = np.array(train_labels)\n",
    "train_samples = np.array(train_samples)\n",
    "test_samples = np.array(test_samples)\n",
    "test_labels = np.array(test_labels)\n",
    "train_labels, train_samples = shuffle(train_labels, train_samples)\n",
    "test_labels, test_samples = shuffle(test_labels, test_samples)"
   ]
  },
  {
   "cell_type": "code",
   "execution_count": 39,
   "id": "93ee7c06",
   "metadata": {},
   "outputs": [],
   "source": [
    "# Scale down the data. The train samples are in a range 13-100 we transform this to be in a range of 0-1\n",
    "scaler = MinMaxScaler(feature_range=(0,1))\n",
    "scaled_train_samples = scaler.fit_transform(train_samples.reshape(-1,1))\n",
    "scaled_test_samples = scaler.fit_transform(test_samples.reshape(-1,1))"
   ]
  },
  {
   "cell_type": "code",
   "execution_count": 68,
   "id": "12c8c723",
   "metadata": {},
   "outputs": [],
   "source": [
    "#check the scaled data samples:\n",
    "#for i in scaled_train_samples:\n",
    "#    print(i)"
   ]
  },
  {
   "cell_type": "code",
   "execution_count": 41,
   "id": "06fe1eaf",
   "metadata": {},
   "outputs": [
    {
     "name": "stdout",
     "output_type": "stream",
     "text": [
      "Num GPUs Available:  0\n"
     ]
    }
   ],
   "source": [
    "#This is to check if there is an available GPU\n",
    "print(\"Num GPUs Available: \", len(tf.config.experimental.list_physical_devices('GPU')))"
   ]
  },
  {
   "cell_type": "markdown",
   "id": "3df3e278",
   "metadata": {},
   "source": [
    "__In case of GPU recognition problem__ <br> \n",
    "Happens because tensorflow is set to work with CPU for some reason. Instead of conda install tensorflow I installed: \n",
    "\n",
    "conda install tensorflow-gpu <br>\n",
    "conda install -c anaconda keras-gpu <br>\n"
   ]
  },
  {
   "cell_type": "code",
   "execution_count": 24,
   "id": "dae73a01",
   "metadata": {},
   "outputs": [],
   "source": [
    "from tensorflow.keras.optimizers import Adam\n",
    "from tensorflow.keras.metrics import categorical_crossentropy\n",
    "from tensorflow.keras import backend as K"
   ]
  },
  {
   "cell_type": "code",
   "execution_count": 26,
   "id": "bb91cf10",
   "metadata": {},
   "outputs": [],
   "source": [
    "model = Sequential([\n",
    "    Dense(16, input_shape=(1,), activation='relu'),\n",
    "    Dense(32, activation='relu'),\n",
    "    Dense(2, activation='softmax')\n",
    "])"
   ]
  },
  {
   "cell_type": "markdown",
   "id": "d1eaad19",
   "metadata": {},
   "source": [
    "When doing multi-class classification, __categorical cross entropy loss__ is used a lot. It compares the predicted label and true label and calculates the loss. In Keras with TensorFlow backend support Categorical Cross-entropy, and a variant of it: Sparse Categorical Cross-entropy. "
   ]
  },
  {
   "cell_type": "code",
   "execution_count": 30,
   "id": "770a13a5",
   "metadata": {},
   "outputs": [],
   "source": [
    "# Adam is an optimizer that is a variation of SGD\n",
    "# Sparse categorical crossentropy is a type of loss function\n",
    "model.compile(Adam(lr=.0001), loss='sparse_categorical_crossentropy', metrics=['accuracy'])"
   ]
  },
  {
   "cell_type": "code",
   "execution_count": 42,
   "id": "8040f5d4",
   "metadata": {},
   "outputs": [
    {
     "name": "stdout",
     "output_type": "stream",
     "text": [
      "Epoch 1/20\n",
      "210/210 - 0s - loss: 0.6632 - accuracy: 0.5729\n",
      "Epoch 2/20\n",
      "210/210 - 0s - loss: 0.6372 - accuracy: 0.6605\n",
      "Epoch 3/20\n",
      "210/210 - 0s - loss: 0.6122 - accuracy: 0.7224\n",
      "Epoch 4/20\n",
      "210/210 - 0s - loss: 0.5861 - accuracy: 0.7543\n",
      "Epoch 5/20\n",
      "210/210 - 0s - loss: 0.5579 - accuracy: 0.7919\n",
      "Epoch 6/20\n",
      "210/210 - 0s - loss: 0.5263 - accuracy: 0.8190\n",
      "Epoch 7/20\n",
      "210/210 - 0s - loss: 0.4937 - accuracy: 0.8357\n",
      "Epoch 8/20\n",
      "210/210 - 0s - loss: 0.4623 - accuracy: 0.8543\n",
      "Epoch 9/20\n",
      "210/210 - 0s - loss: 0.4320 - accuracy: 0.8748\n",
      "Epoch 10/20\n",
      "210/210 - 0s - loss: 0.4059 - accuracy: 0.8829\n",
      "Epoch 11/20\n",
      "210/210 - 0s - loss: 0.3832 - accuracy: 0.8929\n",
      "Epoch 12/20\n",
      "210/210 - 0s - loss: 0.3640 - accuracy: 0.8962\n",
      "Epoch 13/20\n",
      "210/210 - 0s - loss: 0.3477 - accuracy: 0.9038\n",
      "Epoch 14/20\n",
      "210/210 - 0s - loss: 0.3340 - accuracy: 0.9086\n",
      "Epoch 15/20\n",
      "210/210 - 0s - loss: 0.3225 - accuracy: 0.9119\n",
      "Epoch 16/20\n",
      "210/210 - 0s - loss: 0.3129 - accuracy: 0.9124\n",
      "Epoch 17/20\n",
      "210/210 - 0s - loss: 0.3048 - accuracy: 0.9167\n",
      "Epoch 18/20\n",
      "210/210 - 0s - loss: 0.2980 - accuracy: 0.9162\n",
      "Epoch 19/20\n",
      "210/210 - 0s - loss: 0.2923 - accuracy: 0.9233\n",
      "Epoch 20/20\n",
      "210/210 - 0s - loss: 0.2876 - accuracy: 0.9224\n"
     ]
    },
    {
     "data": {
      "text/plain": [
       "<tensorflow.python.keras.callbacks.History at 0x1ede9230108>"
      ]
     },
     "execution_count": 42,
     "metadata": {},
     "output_type": "execute_result"
    }
   ],
   "source": [
    "# scaled_train_samples: numpy array that holds all the training data\n",
    "# train labels: numpy array that holds all the labels corresponding to the training data\n",
    "# batch size = 10 : how many pieces of data we want to send to the model at a given time.\n",
    "# epochs = 20: there will be 20 individual passes of the data through our model\n",
    "# shuffle the data in a different order at each epoch\n",
    "# verbose = 2: we want to see 2 outputs printed to the screen at the end of training \n",
    "model.fit(scaled_train_samples, train_labels, batch_size=10, epochs=20, shuffle=True, verbose=2)"
   ]
  },
  {
   "cell_type": "markdown",
   "id": "7e9d36c9",
   "metadata": {},
   "source": [
    "We see 20 Epochs running on each line (1/20, 2/20, etc.) with how long it took, loss function and the accuracy (accuracy gets better & better at each run)."
   ]
  },
  {
   "cell_type": "markdown",
   "id": "ac004b11",
   "metadata": {},
   "source": [
    "### The concept of Loss"
   ]
  },
  {
   "cell_type": "markdown",
   "id": "1c78e26a",
   "metadata": {},
   "source": [
    "At the end of each epoch during the training process, the loss will be calculated using the network's output predictions and the true labels for the respective input."
   ]
  },
  {
   "cell_type": "code",
   "execution_count": 43,
   "id": "82dd9fd7",
   "metadata": {},
   "outputs": [
    {
     "data": {
      "text/plain": [
       "'sparse_categorical_crossentropy'"
      ]
     },
     "execution_count": 43,
     "metadata": {},
     "output_type": "execute_result"
    }
   ],
   "source": [
    "model.loss = 'sparse_categorical_crossentropy'\n",
    "model.loss"
   ]
  },
  {
   "cell_type": "markdown",
   "id": "f55ecbc2",
   "metadata": {},
   "source": [
    "Other currently available loss functions for Keras:\n",
    "\n",
    "- mean_squared_error\n",
    "- mean_absolute_error\n",
    "- mean_absolute_percentage_error\n",
    "- mean_squared_logarithmic_error\n",
    "- squared_hinge\n",
    "- hinge\n",
    "- categorical_hinge\n",
    "- logcosh\n",
    "- categorical_crossentropy\n",
    "- sparse_categorical_crossentropy\n",
    "- binary_crossentropy\n",
    "- kullback_leibler_divergence\n",
    "- poisson\n",
    "- cosine_proximity"
   ]
  },
  {
   "cell_type": "markdown",
   "id": "459eab2e",
   "metadata": {},
   "source": [
    "### Learning rate "
   ]
  },
  {
   "cell_type": "markdown",
   "id": "38781599",
   "metadata": {},
   "source": [
    "The training process starts with arbitrarily set weights, and then we incrementally update these weights as we move closer and closer to the minimized loss. <br>\n",
    "\n",
    "The size of these steps we're taking to reach our minimized loss is going to depend on the learning rate. Conceptually, we can think of the learning rate of our model as the step size. <br>\n",
    "\n",
    "We know that during training, after the loss is calculated for our inputs, the gradient of that loss is then calculated with respect to each of the weights in our model. <br>\n",
    "\n",
    "Once we have the value of these gradients these gradients will then get multiplied by the learning rate: <br>\n",
    "\n",
    "__gradients * learning rate__ \n",
    "\n",
    "<br>\n",
    "This learning rate is a small number usually ranging between 0.01 and 0.0001, but the actual value can vary, and any value we get for the gradient is going to become pretty small once we multiply it by the learning rate. <br>\n",
    "\n",
    "we then take each of these values and update the respective weights by subtracting this value from them.\n",
    "<br>\n",
    "\n",
    "__new weight = old weight - (learning rate * gradient)__\n",
    "\n",
    "<br>\n",
    "We ditch the previous weights that were set on each connection and update them with these new values. <br>\n",
    "The value we choose for the learning rate is going to require some testing. The learning rate is a _hyperparameter_ that we have to test and tune with each model before we know exactly where we want to set it, but a typical guideline is to set it somewhere between 0.01 and 0.0001."
   ]
  },
  {
   "cell_type": "markdown",
   "id": "c9b75597",
   "metadata": {},
   "source": [
    "## Train, test, validation sets "
   ]
  },
  {
   "cell_type": "code",
   "execution_count": 44,
   "id": "4f637f28",
   "metadata": {},
   "outputs": [
    {
     "name": "stdout",
     "output_type": "stream",
     "text": [
      "Epoch 1/20\n",
      "168/168 - 0s - loss: 0.2754 - accuracy: 0.9232 - val_loss: 0.3167 - val_accuracy: 0.9214\n",
      "Epoch 2/20\n",
      "168/168 - 0s - loss: 0.2723 - accuracy: 0.9268 - val_loss: 0.3144 - val_accuracy: 0.9214\n",
      "Epoch 3/20\n",
      "168/168 - 0s - loss: 0.2696 - accuracy: 0.9280 - val_loss: 0.3125 - val_accuracy: 0.9214\n",
      "Epoch 4/20\n",
      "168/168 - 0s - loss: 0.2672 - accuracy: 0.9280 - val_loss: 0.3108 - val_accuracy: 0.9214\n",
      "Epoch 5/20\n",
      "168/168 - 0s - loss: 0.2653 - accuracy: 0.9268 - val_loss: 0.3094 - val_accuracy: 0.9214\n",
      "Epoch 6/20\n",
      "168/168 - 0s - loss: 0.2633 - accuracy: 0.9327 - val_loss: 0.3082 - val_accuracy: 0.9214\n",
      "Epoch 7/20\n",
      "168/168 - 0s - loss: 0.2619 - accuracy: 0.9292 - val_loss: 0.3071 - val_accuracy: 0.9214\n",
      "Epoch 8/20\n",
      "168/168 - 0s - loss: 0.2604 - accuracy: 0.9280 - val_loss: 0.3061 - val_accuracy: 0.9214\n",
      "Epoch 9/20\n",
      "168/168 - 0s - loss: 0.2590 - accuracy: 0.9298 - val_loss: 0.3052 - val_accuracy: 0.9262\n",
      "Epoch 10/20\n",
      "168/168 - 0s - loss: 0.2579 - accuracy: 0.9315 - val_loss: 0.3044 - val_accuracy: 0.9262\n",
      "Epoch 11/20\n",
      "168/168 - 0s - loss: 0.2568 - accuracy: 0.9321 - val_loss: 0.3038 - val_accuracy: 0.9214\n",
      "Epoch 12/20\n",
      "168/168 - 0s - loss: 0.2559 - accuracy: 0.9304 - val_loss: 0.3031 - val_accuracy: 0.9214\n",
      "Epoch 13/20\n",
      "168/168 - 0s - loss: 0.2551 - accuracy: 0.9333 - val_loss: 0.3024 - val_accuracy: 0.9262\n",
      "Epoch 14/20\n",
      "168/168 - 0s - loss: 0.2540 - accuracy: 0.9315 - val_loss: 0.3018 - val_accuracy: 0.9262\n",
      "Epoch 15/20\n",
      "168/168 - 0s - loss: 0.2533 - accuracy: 0.9321 - val_loss: 0.3012 - val_accuracy: 0.9262\n",
      "Epoch 16/20\n",
      "168/168 - 0s - loss: 0.2525 - accuracy: 0.9315 - val_loss: 0.3008 - val_accuracy: 0.9262\n",
      "Epoch 17/20\n",
      "168/168 - 0s - loss: 0.2520 - accuracy: 0.9315 - val_loss: 0.3003 - val_accuracy: 0.9262\n",
      "Epoch 18/20\n",
      "168/168 - 0s - loss: 0.2511 - accuracy: 0.9321 - val_loss: 0.2999 - val_accuracy: 0.9262\n",
      "Epoch 19/20\n",
      "168/168 - 0s - loss: 0.2506 - accuracy: 0.9321 - val_loss: 0.2995 - val_accuracy: 0.9262\n",
      "Epoch 20/20\n",
      "168/168 - 0s - loss: 0.2501 - accuracy: 0.9321 - val_loss: 0.2992 - val_accuracy: 0.9262\n"
     ]
    },
    {
     "data": {
      "text/plain": [
       "<tensorflow.python.keras.callbacks.History at 0x1ede970d348>"
      ]
     },
     "execution_count": 44,
     "metadata": {},
     "output_type": "execute_result"
    }
   ],
   "source": [
    "#validation_split: you don't need to make a validation set. \n",
    "#We can pass a parameter in Keras so that it splits out a given % (here 20%) as validation set.\n",
    "model.fit(scaled_train_samples, train_labels, validation_split = 0.20, batch_size=10, epochs=20, shuffle=True, verbose=2)"
   ]
  },
  {
   "cell_type": "markdown",
   "id": "b4fa3c29",
   "metadata": {},
   "source": [
    "Now we also have validation accuracy and validation loss. "
   ]
  },
  {
   "cell_type": "markdown",
   "id": "b04ac071",
   "metadata": {},
   "source": [
    "We can also input a validation dataset. It has to be a tuple like this: <br>\n",
    "\n",
    "valid_set = [(sample, label), (sample, label), .... (sample, label)]"
   ]
  },
  {
   "cell_type": "code",
   "execution_count": null,
   "id": "4cd9f9e8",
   "metadata": {},
   "outputs": [],
   "source": [
    "# I havent't created a validation dataset though.\n",
    "#model.fit(scaled_train_samples, train_labels, validation_data = valid_set, batch_size=10, epochs=20, shuffle=True, verbose=2)"
   ]
  },
  {
   "cell_type": "markdown",
   "id": "8d1ecbee",
   "metadata": {},
   "source": [
    "## Predicting"
   ]
  },
  {
   "cell_type": "code",
   "execution_count": 45,
   "id": "7fb3972c",
   "metadata": {},
   "outputs": [],
   "source": [
    "# verbose = 0 here to see nothing printed to the screen\n",
    "predictions = model.predict(scaled_test_samples, batch_size=10, verbose=0)"
   ]
  },
  {
   "cell_type": "code",
   "execution_count": 69,
   "id": "bfc4d66d",
   "metadata": {},
   "outputs": [],
   "source": [
    "#for i in predictions:\n",
    "#    print(i)"
   ]
  },
  {
   "cell_type": "markdown",
   "id": "3c7beb02",
   "metadata": {},
   "source": [
    "For each sample in our test set we are getting a probability that maps to either a patient \"not experiencing a side effect\" (right hand side), or a patient \"experiencing a side effect\".\n",
    "\n",
    "__zero index: experiencing side effects. | index 1 : not experiencing side effects.__\n",
    "\n",
    "For example, for the 1st patient (when I 1st ran this):\n",
    "\n",
    "[0.2773791  0.72262084]\n",
    "\n",
    "Model is assigning a 27% of probability for not experiencing a side effect and 72% probability to experience a side effect. "
   ]
  },
  {
   "cell_type": "code",
   "execution_count": 70,
   "id": "16a7170b",
   "metadata": {},
   "outputs": [],
   "source": [
    "# Getting only the the highest probability index\n",
    "rounded_predictions = np.argmax(predictions, axis=-1)\n",
    "#for i in rounded_predictions:\n",
    "#    print(i)"
   ]
  },
  {
   "cell_type": "markdown",
   "id": "7e4f1251",
   "metadata": {},
   "source": [
    "## Confusion matrix to visualize results"
   ]
  },
  {
   "cell_type": "code",
   "execution_count": null,
   "id": "f9900326",
   "metadata": {},
   "outputs": [],
   "source": [
    "#!conda install matplotlib -y"
   ]
  },
  {
   "cell_type": "code",
   "execution_count": 48,
   "id": "e00ae2b6",
   "metadata": {},
   "outputs": [],
   "source": [
    "%matplotlib inline\n",
    "from sklearn.metrics import confusion_matrix\n",
    "import itertools\n",
    "import matplotlib.pyplot as plt"
   ]
  },
  {
   "cell_type": "code",
   "execution_count": 49,
   "id": "ec47769c",
   "metadata": {},
   "outputs": [],
   "source": [
    "cm = confusion_matrix(y_true=test_labels, y_pred=rounded_predictions)"
   ]
  },
  {
   "cell_type": "code",
   "execution_count": 50,
   "id": "8973c60c",
   "metadata": {},
   "outputs": [],
   "source": [
    "def plot_confusion_matrix(cm, classes,\n",
    "                        normalize=False,\n",
    "                        title='Confusion matrix',\n",
    "                        cmap=plt.cm.Blues):\n",
    "    \"\"\"\n",
    "    This function prints and plots the confusion matrix.\n",
    "    Normalization can be applied by setting `normalize=True`.\n",
    "    \"\"\"\n",
    "    plt.imshow(cm, interpolation='nearest', cmap=cmap)\n",
    "    plt.title(title)\n",
    "    plt.colorbar()\n",
    "    tick_marks = np.arange(len(classes))\n",
    "    plt.xticks(tick_marks, classes, rotation=45)\n",
    "    plt.yticks(tick_marks, classes)\n",
    "\n",
    "    if normalize:\n",
    "        cm = cm.astype('float') / cm.sum(axis=1)[:, np.newaxis]\n",
    "        print(\"Normalized confusion matrix\")\n",
    "    else:\n",
    "        print('Confusion matrix, without normalization')\n",
    "\n",
    "    print(cm)\n",
    "\n",
    "    thresh = cm.max() / 2.\n",
    "    for i, j in itertools.product(range(cm.shape[0]), range(cm.shape[1])):\n",
    "        plt.text(j, i, cm[i, j],\n",
    "            horizontalalignment=\"center\",\n",
    "            color=\"white\" if cm[i, j] > thresh else \"black\")\n",
    "\n",
    "    plt.tight_layout()\n",
    "    plt.ylabel('True label')\n",
    "    plt.xlabel('Predicted label')"
   ]
  },
  {
   "cell_type": "code",
   "execution_count": 51,
   "id": "c9adfcd3",
   "metadata": {},
   "outputs": [
    {
     "name": "stdout",
     "output_type": "stream",
     "text": [
      "Confusion matrix, without normalization\n",
      "[[ 953   97]\n",
      " [  49 1001]]\n"
     ]
    },
    {
     "data": {
      "image/png": "[encoded data removed]",
      "text/plain": [
       "<Figure size 432x288 with 2 Axes>"
      ]
     },
     "metadata": {
      "needs_background": "light"
     },
     "output_type": "display_data"
    }
   ],
   "source": [
    "cm_plot_labels = ['no_side_effects','had_side_effects']\n",
    "plot_confusion_matrix(cm=cm, classes=cm_plot_labels, title='Confusion Matrix')"
   ]
  },
  {
   "cell_type": "markdown",
   "id": "98d8eff7",
   "metadata": {},
   "source": [
    "Dark blue cells are correct predictions whereas the light blue ones are incorrect. "
   ]
  },
  {
   "cell_type": "markdown",
   "id": "d6f1ab84",
   "metadata": {},
   "source": [
    "## Save and load the Model"
   ]
  },
  {
   "cell_type": "markdown",
   "id": "162b32ee",
   "metadata": {},
   "source": [
    "### 1. model.save() function"
   ]
  },
  {
   "cell_type": "markdown",
   "id": "46f923ec",
   "metadata": {},
   "source": [
    "This function saves:\n",
    "\n",
    "- The architecture of the model (if you need to recreate it)\n",
    "- The wights of the model\n",
    "- The training configuration (loss optimizer)\n",
    "- The state of the optimizer, allowing to resume training exactly where you left off. \n",
    "\n",
    "It is the most comprehensive (saves everything)."
   ]
  },
  {
   "cell_type": "code",
   "execution_count": 60,
   "id": "60a26376",
   "metadata": {},
   "outputs": [],
   "source": [
    "#First, cheks if the file already exists\n",
    "#If not, the model is saved to disk\n",
    "import os.path\n",
    "if os.path.isfile('models/ANN_medical_trial_model.h5') is False:\n",
    "    model.save('C:/Users/deniz/OneDrive/Documents/Keras/models/ANN_medical_trial_model.h5')"
   ]
  },
  {
   "cell_type": "markdown",
   "id": "30f84b31",
   "metadata": {},
   "source": [
    "### Loading the model"
   ]
  },
  {
   "cell_type": "code",
   "execution_count": 61,
   "id": "e6647b81",
   "metadata": {},
   "outputs": [],
   "source": [
    "from tensorflow.keras.models import load_model\n",
    "new_model = load_model('models/ANN_medical_trial_model.h5')"
   ]
  },
  {
   "cell_type": "code",
   "execution_count": 62,
   "id": "81fa69e5",
   "metadata": {},
   "outputs": [
    {
     "name": "stdout",
     "output_type": "stream",
     "text": [
      "Model: \"sequential_7\"\n",
      "_________________________________________________________________\n",
      "Layer (type)                 Output Shape              Param #   \n",
      "=================================================================\n",
      "dense_13 (Dense)             (None, 16)                32        \n",
      "_________________________________________________________________\n",
      "dense_14 (Dense)             (None, 32)                544       \n",
      "_________________________________________________________________\n",
      "dense_15 (Dense)             (None, 2)                 66        \n",
      "=================================================================\n",
      "Total params: 642\n",
      "Trainable params: 642\n",
      "Non-trainable params: 0\n",
      "_________________________________________________________________\n"
     ]
    }
   ],
   "source": [
    "new_model.summary()"
   ]
  },
  {
   "cell_type": "code",
   "execution_count": 63,
   "id": "d755fbbd",
   "metadata": {},
   "outputs": [
    {
     "data": {
      "text/plain": [
       "[array([[ 0.6068351 , -0.03218722, -0.48844436, -0.1923372 ,  0.7244437 ,\n",
       "         -0.5440812 , -0.37127715, -0.4313075 , -0.10119525,  0.2050266 ,\n",
       "          0.7479293 ,  0.1649594 , -0.20367262, -0.51541054, -0.47867346,\n",
       "         -0.00719637]], dtype=float32),\n",
       " array([ 0.06406914,  0.        ,  0.        ,  0.21340236, -0.14202236,\n",
       "         0.        ,  0.        ,  0.        ,  0.        ,  0.08248525,\n",
       "        -0.12205636, -0.06494319,  0.        ,  0.        ,  0.        ,\n",
       "         0.        ], dtype=float32),\n",
       " array([[-3.22288349e-02, -3.31036657e-01, -5.28580360e-02,\n",
       "          4.13448550e-02,  1.80068880e-01, -3.35591823e-01,\n",
       "          4.32567179e-01,  2.18965895e-02,  2.10976765e-01,\n",
       "         -2.45318502e-01, -6.38332516e-02,  2.16491327e-01,\n",
       "          1.02064453e-01,  3.29681970e-02, -1.38857588e-01,\n",
       "         -5.27452156e-02, -2.60433048e-01,  4.20925558e-01,\n",
       "         -2.46955976e-01, -3.43114704e-01,  3.36784214e-01,\n",
       "          2.05408633e-02,  4.10876870e-02,  2.85254419e-01,\n",
       "         -2.20037654e-01,  2.32871696e-01,  8.19942579e-02,\n",
       "         -6.80569559e-02,  1.39754891e-01,  7.70932063e-02,\n",
       "         -3.74534458e-01,  5.96189983e-02],\n",
       "        [ 1.03083014e-01, -3.42322767e-01, -2.17148483e-01,\n",
       "         -6.08685613e-02, -8.46630633e-02, -2.26035491e-01,\n",
       "          2.80607492e-01,  3.07639837e-02, -9.80720818e-02,\n",
       "         -1.28865167e-01, -2.62575954e-01,  9.89764631e-02,\n",
       "         -2.99756557e-01,  3.03626060e-03, -5.51390648e-03,\n",
       "          2.84731299e-01, -3.25718433e-01,  3.39757055e-01,\n",
       "          2.12888032e-01,  2.98242420e-01, -3.25891972e-01,\n",
       "          2.92393863e-02,  1.32433832e-01,  3.98635864e-02,\n",
       "         -2.47384727e-01, -2.26798087e-01, -2.32312918e-01,\n",
       "          2.68298656e-01, -1.37994513e-01, -5.78071773e-02,\n",
       "          1.67891711e-01, -8.79396498e-02],\n",
       "        [-2.86257327e-01, -3.00444305e-01, -1.30668968e-01,\n",
       "          2.14041978e-01,  1.66334540e-01, -3.24457139e-01,\n",
       "         -2.89205670e-01, -2.38620535e-01,  2.23238260e-01,\n",
       "          1.74903572e-02,  9.33330953e-02,  1.04392439e-01,\n",
       "         -1.72420725e-01, -2.82436311e-01,  1.17504746e-01,\n",
       "          2.18649477e-01,  3.16104323e-01,  1.23181641e-02,\n",
       "          5.79515696e-02, -8.07150900e-02, -3.52208227e-01,\n",
       "          3.49267632e-01,  3.06812435e-01,  8.63357186e-02,\n",
       "         -2.24474624e-01,  2.56125361e-01, -3.02575499e-01,\n",
       "         -5.65448105e-02,  2.32476383e-01, -4.59917486e-02,\n",
       "          1.41582549e-01,  8.36049318e-02],\n",
       "        [ 1.18810378e-01,  1.21267095e-01,  7.19424427e-01,\n",
       "         -1.53241143e-01, -3.04135025e-01,  5.70054650e-02,\n",
       "         -4.88159180e-01, -3.58513921e-01,  6.71875596e-01,\n",
       "          8.91448706e-02,  3.47031683e-01,  4.67520565e-01,\n",
       "         -8.84434134e-02,  5.28259635e-01, -1.70660913e-02,\n",
       "          3.99612546e-01, -1.69893354e-01, -5.86427867e-01,\n",
       "          5.92628658e-01, -4.10056710e-02, -2.96867460e-01,\n",
       "         -2.12557003e-01, -1.40820965e-01, -2.44647134e-02,\n",
       "         -9.55852568e-02,  6.05379224e-01, -4.06336337e-02,\n",
       "         -4.93574589e-01, -3.09585631e-01,  5.11793852e-01,\n",
       "          3.21236968e-01,  7.48738408e-01],\n",
       "        [ 8.89533684e-02,  2.93917686e-01,  1.52689312e-03,\n",
       "          5.76384723e-01,  2.04629660e-01,  1.17740244e-01,\n",
       "         -5.56803010e-02,  2.19624430e-01, -4.11762059e-01,\n",
       "          1.72768384e-01, -5.23282886e-01, -3.27702105e-01,\n",
       "          8.29173699e-02, -1.45831555e-01, -1.02467000e-01,\n",
       "         -2.61412948e-01,  1.45433187e-01,  1.73857123e-01,\n",
       "         -7.27281347e-02,  2.78207630e-01,  3.53298306e-01,\n",
       "         -4.51590121e-02,  2.81922549e-01,  5.09035051e-01,\n",
       "         -2.56833375e-01, -9.08995718e-02, -2.72790849e-01,\n",
       "          3.43106598e-01,  4.09269959e-01, -3.62326533e-01,\n",
       "          1.30228713e-01, -2.40488678e-01],\n",
       "        [ 9.75252688e-02, -7.45251477e-02, -6.05784357e-02,\n",
       "          3.21178466e-01, -3.22898120e-01,  3.00360590e-01,\n",
       "         -8.65756869e-02, -3.10261577e-01,  1.99487805e-02,\n",
       "         -1.35785341e-01, -1.74547374e-01, -2.72277325e-01,\n",
       "         -3.18885237e-01, -2.29791284e-01,  2.83168584e-01,\n",
       "         -3.02414507e-01,  9.53856409e-02, -2.70051122e-01,\n",
       "          1.79628462e-01, -1.70257255e-01, -3.45345199e-01,\n",
       "         -1.58477455e-01, -3.22419673e-01, -2.08410010e-01,\n",
       "          3.52493733e-01,  1.96219683e-02, -1.02232665e-01,\n",
       "          5.85886836e-02,  3.40116233e-01,  3.47643405e-01,\n",
       "         -3.15993220e-01, -1.66818410e-01],\n",
       "        [ 2.49682754e-01, -1.13394573e-01,  1.90970331e-01,\n",
       "          1.69266760e-02, -2.50230134e-01, -3.47730041e-01,\n",
       "          2.23517418e-05, -3.21505517e-01,  2.27459282e-01,\n",
       "         -3.05435598e-01,  5.65640330e-02, -2.86378384e-01,\n",
       "          6.52726591e-02, -2.13523597e-01,  6.01023436e-03,\n",
       "          1.06143296e-01,  2.01012284e-01,  1.53153270e-01,\n",
       "          9.56656635e-02, -2.38578558e-01, -3.28932881e-01,\n",
       "          3.18435460e-01,  4.64252532e-02,  3.24966341e-01,\n",
       "          2.97112465e-02,  1.04022622e-01,  1.23009086e-03,\n",
       "         -3.24481994e-01,  2.81067640e-01,  3.38703364e-01,\n",
       "         -8.92907977e-02, -4.70276177e-02],\n",
       "        [ 2.03117698e-01,  1.17013544e-01, -1.76805601e-01,\n",
       "         -3.08055341e-01, -3.10461760e-01, -2.99603999e-01,\n",
       "          2.10943311e-01, -8.44822526e-02, -3.67963910e-02,\n",
       "          7.58355856e-02,  3.19298178e-01, -1.89173341e-01,\n",
       "          3.12314481e-01,  1.07004434e-01,  2.98927695e-01,\n",
       "          2.42615789e-01,  1.21021628e-01, -4.84573245e-02,\n",
       "         -1.57063350e-01,  2.84649044e-01,  2.63081223e-01,\n",
       "          9.08274651e-02,  1.54303938e-01, -1.54322788e-01,\n",
       "         -3.35610211e-01, -5.43677509e-02, -3.10610384e-01,\n",
       "         -2.96180248e-02,  3.04001004e-01, -3.26467365e-01,\n",
       "          1.71361774e-01,  6.18456006e-02],\n",
       "        [-5.15530109e-02, -1.26067370e-01,  1.10492110e-02,\n",
       "          1.16572112e-01, -3.47862959e-01, -2.63562620e-01,\n",
       "         -3.39029670e-01,  1.56960696e-01,  1.10829175e-01,\n",
       "          1.11789197e-01,  3.24690312e-01,  3.44873756e-01,\n",
       "         -1.05865806e-01,  2.99443096e-01, -9.16541517e-02,\n",
       "         -3.18658501e-01, -4.63874936e-02, -1.22312337e-01,\n",
       "          2.44167536e-01,  3.33577543e-01, -2.77019024e-01,\n",
       "         -1.68879136e-01, -2.23860204e-01,  3.40004951e-01,\n",
       "          2.15582401e-01, -1.57667726e-01,  1.68035775e-01,\n",
       "         -2.91072726e-02, -1.53066143e-01,  2.72067875e-01,\n",
       "         -2.65343159e-01, -1.89646900e-01],\n",
       "        [-1.43971488e-01,  1.37660662e-02,  1.93472892e-01,\n",
       "         -3.73119041e-02,  2.69546866e-01, -1.74719170e-01,\n",
       "          4.22451228e-01, -4.96941134e-02, -5.32909557e-02,\n",
       "          3.15236419e-01, -1.06639387e-02, -4.38920222e-02,\n",
       "          7.20969290e-02, -1.49152011e-01, -2.41322070e-01,\n",
       "          2.97841251e-01, -2.71253169e-01, -1.90092906e-01,\n",
       "          9.56637561e-02,  1.22787833e-01,  6.85190558e-02,\n",
       "         -1.67496040e-01, -3.34008723e-01,  2.41183385e-01,\n",
       "          2.23111242e-01,  1.34338811e-01, -2.49700874e-01,\n",
       "          4.50712774e-04,  1.01332106e-01,  7.42239039e-03,\n",
       "         -2.51817077e-01,  1.69448093e-01],\n",
       "        [-2.81004369e-01, -2.65490234e-01, -5.79767287e-01,\n",
       "          2.84067154e-01,  2.18731076e-01, -2.88832784e-01,\n",
       "          2.12359384e-01,  5.72456658e-01, -3.14322412e-01,\n",
       "         -3.03195626e-01,  3.97780500e-02, -3.68721902e-01,\n",
       "          4.53373194e-01, -2.92280555e-01,  2.24530309e-01,\n",
       "         -3.29273134e-01,  3.53965163e-03,  5.51359832e-01,\n",
       "         -1.90693513e-01, -3.45973194e-01,  3.96638364e-01,\n",
       "         -3.13154966e-01, -2.48997837e-01,  6.36475235e-02,\n",
       "         -3.51317406e-01, -2.96353400e-01, -2.96488732e-01,\n",
       "          5.13153851e-01,  2.93229580e-01, -3.64403039e-01,\n",
       "          2.32481033e-01, -4.99131352e-01],\n",
       "        [-5.76749086e-01, -3.14306140e-01, -3.48806441e-01,\n",
       "         -3.94335166e-02,  5.94147891e-02, -2.07342520e-01,\n",
       "          4.42015886e-01,  2.78203070e-01, -5.64978778e-01,\n",
       "         -2.29202071e-03, -3.77206653e-02, -3.16190958e-01,\n",
       "          2.87030667e-01, -4.85880166e-01, -2.95136005e-01,\n",
       "         -2.38070264e-01,  2.47425705e-01, -1.20416127e-01,\n",
       "         -3.52149576e-01,  7.42863417e-02,  3.45070630e-01,\n",
       "          2.77657777e-01,  1.01835817e-01,  8.65277275e-02,\n",
       "         -2.19846725e-01, -5.35761118e-02,  1.91933528e-01,\n",
       "          2.87210584e-01, -6.70176372e-02, -1.29947990e-01,\n",
       "          2.03823507e-01, -2.67189771e-01],\n",
       "        [-2.76772380e-01,  9.37869251e-02, -2.52087116e-02,\n",
       "          5.90174794e-02,  2.70725220e-01, -1.83824912e-01,\n",
       "         -1.22512117e-01, -2.94819772e-02, -2.52156168e-01,\n",
       "          1.85703129e-01, -3.00745666e-02,  5.78806996e-02,\n",
       "          2.00742036e-01, -1.99926525e-01,  3.19779843e-01,\n",
       "          1.72708601e-01, -2.51183927e-01, -3.10434371e-01,\n",
       "          9.35625434e-02, -1.60348698e-01, -2.55772471e-02,\n",
       "         -2.20452547e-01,  1.18195534e-01,  2.05790728e-01,\n",
       "         -1.79626152e-01, -1.56016752e-01, -2.26987839e-01,\n",
       "         -1.64264470e-01, -1.62622601e-01,  1.70026451e-01,\n",
       "          1.90315932e-01,  2.75543839e-01],\n",
       "        [ 2.06584722e-01, -1.61889493e-01,  2.67541617e-01,\n",
       "         -1.31796643e-01, -1.08278289e-01,  2.73487836e-01,\n",
       "         -2.96965182e-01, -9.17805731e-02,  3.52490216e-01,\n",
       "          3.02141458e-01, -8.10163617e-02,  3.30069929e-01,\n",
       "         -2.92483538e-01, -3.09113830e-01,  5.59244752e-02,\n",
       "         -4.36471105e-02, -1.90168604e-01,  1.45243615e-01,\n",
       "          1.94751829e-01, -4.33702171e-02,  1.94854885e-01,\n",
       "         -7.39159584e-02,  4.02725041e-02,  1.79441363e-01,\n",
       "          8.60881805e-03, -8.71998072e-02, -2.27725312e-01,\n",
       "          1.12024963e-01,  1.49797499e-02,  1.59194022e-01,\n",
       "          2.13135928e-01, -3.00056040e-02],\n",
       "        [ 1.66009665e-02, -2.60834187e-01,  2.82886833e-01,\n",
       "          1.95376962e-01, -3.16231072e-01, -2.23907992e-01,\n",
       "          1.55614614e-02,  3.43910605e-01,  3.02856714e-01,\n",
       "          1.70564860e-01, -1.20488644e-01, -1.96649179e-01,\n",
       "          1.51895791e-01, -2.41718322e-01,  1.58670574e-01,\n",
       "         -2.45521665e-01,  1.57465070e-01,  1.97895378e-01,\n",
       "          1.96942538e-01,  3.53341788e-01,  4.78127301e-02,\n",
       "         -2.47387245e-01,  4.37847674e-02,  2.60580391e-01,\n",
       "          2.85848945e-01, -1.24306738e-01,  1.12667084e-02,\n",
       "          2.00343698e-01,  1.21488303e-01,  2.46490806e-01,\n",
       "         -9.98146236e-02, -1.05064511e-01],\n",
       "        [-2.05442369e-01,  1.19085580e-01, -3.03366274e-01,\n",
       "          2.56296664e-01,  2.05801636e-01,  8.17033648e-03,\n",
       "         -5.79043627e-02, -3.35559368e-01,  1.52206868e-01,\n",
       "          1.14211291e-01, -3.45290840e-01,  2.19853908e-01,\n",
       "          2.76494890e-01, -2.19384879e-01, -1.47615120e-01,\n",
       "         -1.90192118e-01,  3.33441228e-01, -3.52853000e-01,\n",
       "         -1.74135566e-02,  1.39959812e-01, -1.49219647e-01,\n",
       "          3.01354617e-01,  2.57341236e-01, -2.84976006e-01,\n",
       "          2.02960700e-01, -1.93455040e-01, -1.53829753e-01,\n",
       "          2.58810908e-01, -3.35171133e-01,  2.98803717e-01,\n",
       "         -2.61929095e-01, -3.01524401e-02]], dtype=float32),\n",
       " array([ 0.16739792, -0.00743657,  0.22225432, -0.06632352, -0.08704989,\n",
       "         0.        , -0.12154558, -0.05160808,  0.21400996, -0.02364364,\n",
       "         0.21535255,  0.18906505, -0.08795134,  0.20793498,  0.        ,\n",
       "         0.20319623,  0.        , -0.07406574,  0.20659855,  0.        ,\n",
       "        -0.10969785,  0.        ,  0.        , -0.12683852,  0.        ,\n",
       "         0.1382581 , -0.00051216, -0.02816907, -0.0762    ,  0.25503132,\n",
       "        -0.00776061,  0.23147215], dtype=float32),\n",
       " array([[ 0.51016575, -0.32245052],\n",
       "        [-0.04985751, -0.03349586],\n",
       "        [ 0.52058023, -0.5072687 ],\n",
       "        [-0.68931174,  0.54404247],\n",
       "        [-0.5591254 ,  0.70439005],\n",
       "        [-0.29475212,  0.17825195],\n",
       "        [-0.6845192 , -0.03707454],\n",
       "        [-0.48336777,  0.6424988 ],\n",
       "        [ 0.85026026, -0.2777476 ],\n",
       "        [-0.27512237, -0.3063777 ],\n",
       "        [ 0.6367121 , -0.81546557],\n",
       "        [ 0.11388829, -0.7603634 ],\n",
       "        [-0.37483808,  0.5089229 ],\n",
       "        [ 0.45139337, -0.74684685],\n",
       "        [ 0.40973774,  0.33924875],\n",
       "        [ 0.62803894, -0.6862526 ],\n",
       "        [ 0.00688362,  0.2651799 ],\n",
       "        [-0.67722285,  0.37718508],\n",
       "        [ 0.32640743, -0.669969  ],\n",
       "        [-0.31817758,  0.17367032],\n",
       "        [-0.25630897,  0.357398  ],\n",
       "        [ 0.25407103,  0.23365203],\n",
       "        [ 0.2516897 ,  0.15872416],\n",
       "        [-0.5890128 ,  0.5214402 ],\n",
       "        [ 0.17589667, -0.04847744],\n",
       "        [ 0.41173914, -0.41250563],\n",
       "        [-0.38442338, -0.3144196 ],\n",
       "        [-0.07750733,  0.7086018 ],\n",
       "        [-0.38951916,  0.4131883 ],\n",
       "        [ 0.52828467, -0.4027777 ],\n",
       "        [-0.03106414, -0.27440703],\n",
       "        [ 0.1175795 , -0.88432974]], dtype=float32),\n",
       " array([ 0.13411, -0.13411], dtype=float32)]"
      ]
     },
     "execution_count": 63,
     "metadata": {},
     "output_type": "execute_result"
    }
   ],
   "source": [
    "new_model.get_weights()"
   ]
  },
  {
   "cell_type": "markdown",
   "id": "5f61f49a",
   "metadata": {},
   "source": [
    "### 2. model.to_json() "
   ]
  },
  {
   "cell_type": "markdown",
   "id": "1cf28ccb",
   "metadata": {},
   "source": [
    "model.to_json() only saves the architecture of the model to a json string. It doesn't save the weights or the training configuration.  "
   ]
  },
  {
   "cell_type": "code",
   "execution_count": 64,
   "id": "6089cb71",
   "metadata": {},
   "outputs": [],
   "source": [
    "#save as JSON\n",
    "json_string = model.to_json()\n",
    "\n",
    "#save as YAML\n",
    "#yaml_string = model.to_yaml()"
   ]
  },
  {
   "cell_type": "code",
   "execution_count": 66,
   "id": "3262eb9e",
   "metadata": {},
   "outputs": [],
   "source": [
    "#model reconstruction from JSON:\n",
    "from tensorflow.keras.models import model_from_json\n",
    "model_architecture = model_from_json(json_string)\n",
    "\n",
    "#model reconstruction with YAML\n",
    "#from tensorflow.keras.models import model_from_yaml\n",
    "#model = model_from_yaml(yaml_string)"
   ]
  },
  {
   "cell_type": "code",
   "execution_count": 67,
   "id": "86c1137b",
   "metadata": {
    "scrolled": true
   },
   "outputs": [
    {
     "name": "stdout",
     "output_type": "stream",
     "text": [
      "Model: \"sequential_7\"\n",
      "_________________________________________________________________\n",
      "Layer (type)                 Output Shape              Param #   \n",
      "=================================================================\n",
      "dense_13 (Dense)             (None, 16)                32        \n",
      "_________________________________________________________________\n",
      "dense_14 (Dense)             (None, 32)                544       \n",
      "_________________________________________________________________\n",
      "dense_15 (Dense)             (None, 2)                 66        \n",
      "=================================================================\n",
      "Total params: 642\n",
      "Trainable params: 642\n",
      "Non-trainable params: 0\n",
      "_________________________________________________________________\n"
     ]
    }
   ],
   "source": [
    "model_architecture.summary()"
   ]
  },
  {
   "cell_type": "code",
   "execution_count": null,
   "id": "e99f7cc8",
   "metadata": {},
   "outputs": [],
   "source": []
  }
 ],
 "metadata": {
  "kernelspec": {
   "display_name": "Python 3",
   "language": "python",
   "name": "python3"
  },
  "language_info": {
   "codemirror_mode": {
    "name": "ipython",
    "version": 3
   },
   "file_extension": ".py",
   "mimetype": "text/x-python",
   "name": "python",
   "nbconvert_exporter": "python",
   "pygments_lexer": "ipython3",
   "version": "3.7.10"
  }
 },
 "nbformat": 4,
 "nbformat_minor": 5
}
